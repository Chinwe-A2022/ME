{
  "nbformat": 4,
  "nbformat_minor": 0,
  "metadata": {
    "colab": {
      "provenance": []
    },
    "kernelspec": {
      "name": "python3",
      "display_name": "Python 3"
    },
    "language_info": {
      "name": "python"
    }
  },
  "cells": [
    {
      "cell_type": "markdown",
      "source": [
        "SALT MODEL LSTM2"
      ],
      "metadata": {
        "id": "s7xe53Ej1dS7"
      }
    },
    {
      "cell_type": "code",
      "execution_count": null,
      "metadata": {
        "id": "mohAU6OHrVH4"
      },
      "outputs": [],
      "source": [
        "from google.colab import drive\n",
        "drive.mount('/content/drive')"
      ]
    },
    {
      "cell_type": "code",
      "source": [
        "import zipfile\n",
        "import os\n",
        "\n",
        "zip_ref = zipfile.ZipFile('/content/sample_data/SALTMODELS_k.zip','r') #Opens the zip file\n",
        "zip_ref.extractall('/tmp') #Extracts the files into the /tmp folder\n",
        "zip_ref.close()"
      ],
      "metadata": {
        "id": "_DQh6TebrdJK"
      },
      "execution_count": null,
      "outputs": []
    },
    {
      "cell_type": "code",
      "source": [
        "import pandas as pd\n",
        "from sklearn.model_selection import train_test_split\n",
        "from sklearn.preprocessing import MinMaxScaler\n",
        "from sklearn.metrics import accuracy_score, precision_score, recall_score, f1_score, confusion_matrix, roc_curve, auc, mean_squared_error, mean_absolute_error\n",
        "import numpy as np\n",
        "import tensorflow as tf"
      ],
      "metadata": {
        "id": "GXIXpzwPrg_f"
      },
      "execution_count": null,
      "outputs": []
    },
    {
      "cell_type": "code",
      "source": [
        "import tensorflow as tf\n",
        "from tensorflow.keras.models import Sequential\n",
        "from tensorflow.keras.layers import Dense, Conv2D, MaxPooling2D, Flatten, Dropout\n",
        "from tensorflow.keras.preprocessing.image import ImageDataGenerator\n",
        "import tensorflow_hub as hub\n",
        "from tensorflow.keras.utils import load_img\n",
        "from tensorflow.keras.utils import img_to_array\n",
        "from tensorflow import keras\n",
        "from keras.datasets import mnist\n",
        "from keras.models import Sequential\n",
        "from keras.layers import Conv2D\n",
        "from keras.layers import MaxPool2D\n",
        "from keras.layers import Flatten\n",
        "from keras.layers import Dropout\n",
        "from keras.layers import Dense\n",
        "from sklearn.model_selection import train_test_split\n",
        "from sklearn.preprocessing import LabelEncoder\n",
        "import cv2 as cv\n",
        "from torch.utils.data import DataLoader"
      ],
      "metadata": {
        "id": "gT64R4Harjrj"
      },
      "execution_count": null,
      "outputs": []
    },
    {
      "cell_type": "code",
      "source": [
        "import pandas as pd\n",
        "import numpy as np\n",
        "from sklearn.model_selection import train_test_split\n",
        "from sklearn.metrics import accuracy_score, precision_score, recall_score, f1_score, confusion_matrix, roc_auc_score, mean_squared_error\n",
        "from sklearn.preprocessing import MinMaxScaler, OneHotEncoder\n",
        "import tensorflow as tf\n",
        "from tensorflow.keras.models import Sequential\n",
        "from tensorflow.keras.layers import LSTM, Dense, Dropout\n",
        "from tensorflow.keras.utils import to_categorical\n",
        "from tensorflow.keras.optimizers import Adam\n",
        "from sklearn.metrics import roc_curve"
      ],
      "metadata": {
        "id": "c4F-KmUJrkX1"
      },
      "execution_count": null,
      "outputs": []
    },
    {
      "cell_type": "code",
      "source": [
        "from torchvision import transforms, models\n",
        "from torch.utils.data import DataLoader, Dataset\n",
        "import torch.optim as optim\n",
        "from torchvision.transforms import ToTensor\n",
        "import matplotlib.pyplot as plt\n",
        "from torch.optim.lr_scheduler import OneCycleLR"
      ],
      "metadata": {
        "id": "3uOhbBl0ro8t"
      },
      "execution_count": null,
      "outputs": []
    },
    {
      "cell_type": "code",
      "source": [
        "import os\n",
        "import pandas as pd"
      ],
      "metadata": {
        "id": "pgnzbR0nrrfv"
      },
      "execution_count": null,
      "outputs": []
    },
    {
      "cell_type": "markdown",
      "source": [
        "Data loading"
      ],
      "metadata": {
        "id": "CqATgWdJsGXa"
      }
    },
    {
      "cell_type": "code",
      "source": [
        "data_dir = \"/tmp/SALTMODELS_k\"\n",
        "# Define the file paths for the Excel files\n",
        "try:\n",
        "    salt_train_df = salt_df = pd.read_excel('/tmp/SALTMODELS_k/TRAIN_SALT_DL.xlsx', sheet_name='Fertility')  # Update this with the actual path to your file\n",
        "    salt_test_df = pd.read_excel('/tmp/SALT_MODELS/TEST_SALT_DL.xlsx', sheet_name='Sheet1')  # Update this with the actual path to your file\n",
        "except Exception as e:\n",
        "    print(\"Error loading Excel files:\", e)"
      ],
      "metadata": {
        "id": "Gkg10zbgrwQL"
      },
      "execution_count": null,
      "outputs": []
    },
    {
      "cell_type": "code",
      "source": [
        "salt_train_df = salt_train_df.drop(salt_train_df.index[0]).iloc[:, 1:]\n",
        "salt_test_df = salt_test_df.drop(salt_test_df.index[0]).iloc[:, 1:]"
      ],
      "metadata": {
        "id": "CK2hawMLry5L"
      },
      "execution_count": null,
      "outputs": []
    },
    {
      "cell_type": "code",
      "source": [
        "# Check if the DataFrames are processed correctly\n",
        "print(\"Salt train DataFrame head:\\n\", salt_train_df.head())\n",
        "print(\"Salt test DataFrame head:\\n\", salt_test_df.head())"
      ],
      "metadata": {
        "id": "8yE8uEV8r2Rg"
      },
      "execution_count": null,
      "outputs": []
    },
    {
      "cell_type": "markdown",
      "source": [
        "Labels and features"
      ],
      "metadata": {
        "id": "cErBtFCYsAs8"
      }
    },
    {
      "cell_type": "code",
      "source": [
        "y = np.where(salt_train_df.iloc[:, 0] > 470, 1, 0)\n",
        "# Convert labels to categorical (one-hot encoding)\n",
        "\n",
        "# Your features matrix X remains the same\n",
        "X = np.array(salt_train_df.iloc[:, 1:])"
      ],
      "metadata": {
        "id": "6G3w4wNrsHfn"
      },
      "execution_count": null,
      "outputs": []
    },
    {
      "cell_type": "code",
      "source": [
        "X = X.reshape((X.shape[0], X.shape[1], 1))"
      ],
      "metadata": {
        "id": "yH4-x5JWsR0r"
      },
      "execution_count": null,
      "outputs": []
    },
    {
      "cell_type": "code",
      "source": [
        "print(X)"
      ],
      "metadata": {
        "id": "2x6I-6T4sUDq"
      },
      "execution_count": null,
      "outputs": []
    },
    {
      "cell_type": "code",
      "source": [
        "from sklearn.model_selection import train_test_split\n",
        "\n",
        "X_train, X_val, y_train, y_val = train_test_split(X, y, test_size=0.36, stratify=y, random_state=47)"
      ],
      "metadata": {
        "id": "67KZyXQEsZ72"
      },
      "execution_count": null,
      "outputs": []
    },
    {
      "cell_type": "code",
      "source": [
        "print(\"Validation set size:\", len(X_val))"
      ],
      "metadata": {
        "id": "-nFbwtArsvEt"
      },
      "execution_count": null,
      "outputs": []
    },
    {
      "cell_type": "code",
      "source": [
        "print(\"Validation set size:\", len(X_train))"
      ],
      "metadata": {
        "id": "aXFOLS_3sxIy"
      },
      "execution_count": null,
      "outputs": []
    },
    {
      "cell_type": "markdown",
      "source": [
        "LSTM model (single-layer 50 units) with dropout; trained 100 epochs"
      ],
      "metadata": {
        "id": "Bdi6laKOsgF9"
      }
    },
    {
      "cell_type": "code",
      "source": [
        "from tensorflow.keras.layers import Dropout\n",
        "from tensorflow.keras.regularizers import l2\n",
        "\n",
        "# Define the LSTM model with two LSTM layers and a dropout layer\n",
        "modelu = Sequential([\n",
        "    LSTM(50, input_shape=(X_train.shape[1], X_train.shape[2]), kernel_regularizer=l2(0.01)),\n",
        "    Dropout(0.3),\n",
        "    Dense(1, activation='sigmoid')  # Output layer for binary classification\n",
        "])"
      ],
      "metadata": {
        "id": "qsEJf3axsd7i"
      },
      "execution_count": null,
      "outputs": []
    },
    {
      "cell_type": "code",
      "source": [
        "# Compile the model\n",
        "modelu.compile(optimizer='adam', loss='binary_crossentropy', metrics=['accuracy'])"
      ],
      "metadata": {
        "id": "VpkgqpHKs_5I"
      },
      "execution_count": null,
      "outputs": []
    },
    {
      "cell_type": "code",
      "source": [
        "history = modelu.fit(X_train, y_train, validation_data=(X_val, y_val), epochs=100)"
      ],
      "metadata": {
        "id": "0egSpAdvtBYT"
      },
      "execution_count": null,
      "outputs": []
    },
    {
      "cell_type": "markdown",
      "source": [
        "Evaluation / reporting"
      ],
      "metadata": {
        "id": "GgTUaHMytIew"
      }
    },
    {
      "cell_type": "code",
      "source": [
        "y_pred_salt = modelu.predict(X_val)\n",
        "y_pred_salt_binary = (y_pred_salt > 0.5).astype(int)"
      ],
      "metadata": {
        "id": "o2Ing-QCtMqF"
      },
      "execution_count": null,
      "outputs": []
    },
    {
      "cell_type": "code",
      "source": [
        "print(\"\\nClassification Report:\\n\", classification_report(y_val, y_pred_salt_binary))"
      ],
      "metadata": {
        "id": "zWyu2UX-tNSC"
      },
      "execution_count": null,
      "outputs": []
    },
    {
      "cell_type": "code",
      "source": [
        "plt.figure(figsize=(8, 5))\n",
        "plt.plot(history.history['accuracy'], label='Training accuracy')\n",
        "plt.plot(history.history['val_accuracy'], label='Validation Accuracy')\n",
        "plt.title('Model Accuracy')\n",
        "plt.xlabel('Epoch')\n",
        "plt.ylabel('Accuracy')\n",
        "plt.legend()\n",
        "plt.show()"
      ],
      "metadata": {
        "id": "P8bUq2njtQ7f"
      },
      "execution_count": null,
      "outputs": []
    },
    {
      "cell_type": "code",
      "source": [
        "plt.figure(figsize=(8, 5))\n",
        "plt.plot(history.history['loss'], label='Training Loss')\n",
        "plt.plot(history.history['val_loss'], label='Validation Loss')\n",
        "plt.title('Model Loss')\n",
        "plt.xlabel('Epoch')\n",
        "plt.ylabel('Loss')\n",
        "plt.legend()\n",
        "plt.show()"
      ],
      "metadata": {
        "id": "eePztvcHtTLZ"
      },
      "execution_count": null,
      "outputs": []
    },
    {
      "cell_type": "code",
      "source": [
        "from sklearn.metrics import classification_report, confusion_matrix, roc_curve, auc, accuracy_score, precision_score, recall_score, f1_score\n",
        "import matplotlib.pyplot as plt\n",
        "import seaborn as sns"
      ],
      "metadata": {
        "id": "HzmzLZZZ7SJw"
      },
      "execution_count": null,
      "outputs": []
    },
    {
      "cell_type": "code",
      "source": [
        "y_pred_salt = model_salt.predict(X_test_salt)\n",
        "y_pred_salt_binary = (y_pred_salt > 0.5).astype(int)"
      ],
      "metadata": {
        "id": "Twbtm2y79xMu"
      },
      "execution_count": null,
      "outputs": []
    },
    {
      "cell_type": "code",
      "source": [
        "acc = accuracy_score(y_test_salt, y_pred_salt_binary)\n",
        "prec = precision_score(y_test_salt, y_pred_salt_binary, zero_division=0)\n",
        "rec = recall_score(y_test_salt, y_pred_salt_binary, zero_division=0)\n",
        "f1 = f1_score(y_test_salt, y_pred_salt_binary, zero_division=0)\n",
        "\n",
        "print(f'Accuracy (Salt): {acc}')\n",
        "print(f'Precision (Salt): {prec}')\n",
        "print(f'Recall (Salt): {rec}')\n",
        "print(f'F1-score (Salt): {f1}')"
      ],
      "metadata": {
        "id": "69AbeC3c93jv"
      },
      "execution_count": null,
      "outputs": []
    },
    {
      "cell_type": "code",
      "source": [
        "print(\"Classification Report (Salt):\", classification_report(y_test_salt, y_pred_salt_binary, zero_division=0))"
      ],
      "metadata": {
        "id": "zJaWHNXf97pj"
      },
      "execution_count": null,
      "outputs": []
    },
    {
      "cell_type": "code",
      "source": [
        "cm = confusion_matrix(y_test_salt, y_pred_salt_binary)\n",
        "plt.figure(figsize=(6, 4))\n",
        "sns.heatmap(cm, annot=True, fmt='d', cmap='Blues')\n",
        "plt.title('Confusion Matrix - Salt')\n",
        "plt.xlabel('Predicted Labels')\n",
        "plt.ylabel('True Labels')\n",
        "plt.show()"
      ],
      "metadata": {
        "id": "GRJYQIBV-Ctj"
      },
      "execution_count": null,
      "outputs": []
    },
    {
      "cell_type": "markdown",
      "source": [
        "ACETIC ACID LSTM1"
      ],
      "metadata": {
        "id": "uK3as6KcvGaQ"
      }
    },
    {
      "cell_type": "code",
      "source": [
        "import zipfile\n",
        "import os\n",
        "\n",
        "zip_ref = zipfile.ZipFile('/content/sample_data/ACETIC_ACIDMODELS_k.zip', 'r') # Opens the zip file\n",
        "zip_ref.extractall('/tmp') # Extracts the files into the /tmp folder\n",
        "zip_ref.close()"
      ],
      "metadata": {
        "id": "FQuqWUHfvFws"
      },
      "execution_count": null,
      "outputs": []
    },
    {
      "cell_type": "code",
      "source": [
        "data_dir = \"/tmp/ACETIC_ACIDMODELS_k\"\n",
        "try:\n",
        "  acetic_acid_train_df = acetic_acid_df = pd.read_excel('/tmp/ACETIC_ACIDMODELS_k/TRAIN_ACETIC_ACID_DL.xlsx', sheet_name='Fertility')\n",
        "  acetic_acid_test_df = pd.read_excel('/tmp/ACETIC_ACID_MODELS/TEST_ACETIC_ACID_DL.xlsx', sheet_name='Sheet1')\n",
        "except Exception as e:\n",
        "  print(\"Error loading Excel files:\", e)"
      ],
      "metadata": {
        "id": "V-HeEXIf2Qox"
      },
      "execution_count": null,
      "outputs": []
    },
    {
      "cell_type": "code",
      "source": [
        "acetic_acid_train_df = acetic_acid_train_df.drop(acetic_acid_train_df.index[0]).iloc[:, 1:]\n",
        "acetic_acid_test_df = acetic_acid_test_df.drop(acetic_acid_test_df.index[0]).iloc[:, 1:]"
      ],
      "metadata": {
        "id": "5cF7aE6X1x3z"
      },
      "execution_count": null,
      "outputs": []
    },
    {
      "cell_type": "code",
      "source": [
        "print(\"Acetic acid train DataFrame head:\\n\", acetic_acid_train_df.head())\n",
        "print(\"Acetic acid test DataFrame head:\\n\", acetic_acid_test_df.head())"
      ],
      "metadata": {
        "id": "5qBfsLzu2j3i"
      },
      "execution_count": null,
      "outputs": []
    },
    {
      "cell_type": "markdown",
      "source": [
        "Labels and features\n"
      ],
      "metadata": {
        "id": "rCyDpjMc2t2G"
      }
    },
    {
      "cell_type": "code",
      "source": [
        "y = np.where(acetic_acid_train_df.iloc[:, 0] > 470, 1, 0)\n",
        "X = np.array(acetic_acid_train_df.iloc[:, 1:])"
      ],
      "metadata": {
        "id": "NAqgyKUN2rXb"
      },
      "execution_count": null,
      "outputs": []
    },
    {
      "cell_type": "code",
      "source": [
        "print(X)"
      ],
      "metadata": {
        "id": "B3tDSFPi20Vz"
      },
      "execution_count": null,
      "outputs": []
    },
    {
      "cell_type": "code",
      "source": [
        "X = X.reshape((X.shape[0], X.shape[1], 1))"
      ],
      "metadata": {
        "id": "nQYe0FMh22G6"
      },
      "execution_count": null,
      "outputs": []
    },
    {
      "cell_type": "code",
      "source": [
        "print(X)"
      ],
      "metadata": {
        "id": "fj2acpTG22oY"
      },
      "execution_count": null,
      "outputs": []
    },
    {
      "cell_type": "code",
      "source": [
        "from sklearn.model_selection import train_test_split\n",
        "\n",
        "X_train, X_val, y_train, y_val = train_test_split(X, y, test_size=0.36, stratify=y, random_state=47)"
      ],
      "metadata": {
        "id": "-nzUGn253Q_h"
      },
      "execution_count": null,
      "outputs": []
    },
    {
      "cell_type": "code",
      "source": [
        "print(\"Validation set size:\", len(X_val))\n",
        "print(\"Training set size:\", len(X_train))"
      ],
      "metadata": {
        "id": "cy0mqiwF3Z0e"
      },
      "execution_count": null,
      "outputs": []
    },
    {
      "cell_type": "code",
      "source": [
        "model_acetic_acid = Sequential()\n",
        "model_acetic_acid.add(LSTM(units=64, input_shape=(X_train_acetic_acid.shape[1], 1), return_sequences=True)) # Increase LSTM units\n",
        "model_acetic_acid.add(Dropout(0.1)) # Add dropout for regularization\n",
        "model_acetic_acid.add(LSTM(units=32))\n",
        "model_acetic_acid.add(Dense(1, activation='sigmoid'))"
      ],
      "metadata": {
        "id": "RFmJ6Q2T4B7N"
      },
      "execution_count": null,
      "outputs": []
    },
    {
      "cell_type": "code",
      "source": [
        "# Compile the model\n",
        "model_acetic_acid.compile(optimizer='adam', loss='binary_crossentropy', metrics=['accuracy'])"
      ],
      "metadata": {
        "id": "jg8O7o964EKD"
      },
      "execution_count": null,
      "outputs": []
    },
    {
      "cell_type": "code",
      "source": [
        "# Compile the model\n",
        "model_acetic_acid.compile(optimizer='adam', loss='binary_crossentropy', metrics=['accuracy'])"
      ],
      "metadata": {
        "id": "u-musFeM4UQz"
      },
      "execution_count": null,
      "outputs": []
    },
    {
      "cell_type": "code",
      "source": [
        "# Train the model on the acetic_acid dataset\n",
        "history_acetic_acid = model_acetic_acid.fit(\n",
        "    X_train_acetic_acid,\n",
        "    y_train_acetic_acid,\n",
        "    epochs=100,\n",
        "    batch_size=32,\n",
        "    validation_data=(X_test_acetic_acid, y_test_acetic_acid))"
      ],
      "metadata": {
        "id": "XtV_nDQ74XoM"
      },
      "execution_count": null,
      "outputs": []
    },
    {
      "cell_type": "code",
      "source": [
        "plt.figure(figsize=(8, 5))\n",
        "plt.plot(history_acetic_acid.history['accuracy'], label='Training Accuracy')\n",
        "plt.plot(history_acetic_acid.history['val_accuracy'], label='Validation Accuracy')\n",
        "plt.title('Model Accuracy')\n",
        "plt.xlabel('Epoch')\n",
        "plt.ylabel('Accuracy')\n",
        "plt.legend()\n",
        "plt.show()"
      ],
      "metadata": {
        "id": "69l3kH5X4YLl"
      },
      "execution_count": null,
      "outputs": []
    },
    {
      "cell_type": "code",
      "source": [
        "plt.figure(figsize=(8, 5))\n",
        "plt.plot(history_acetic_acid.history['loss'], label='Training Loss')\n",
        "plt.plot(history_acetic_acid.history['val_loss'], label='Validation Loss')\n",
        "plt.title('Model Loss')\n",
        "plt.xlabel('Epoch')\n",
        "plt.ylabel('Loss')\n",
        "plt.legend()\n",
        "plt.show()"
      ],
      "metadata": {
        "id": "KxoafzW44sIn"
      },
      "execution_count": null,
      "outputs": []
    },
    {
      "cell_type": "code",
      "source": [
        "from sklearn.metrics import classification_report, confusion_matrix, roc_curve, auc, accuracy_score, precision_score, recall_score, f1_score\n",
        "import matplotlib.pyplot as plt\n",
        "import seaborn as sns"
      ],
      "metadata": {
        "id": "D5HJq3jT7xYr"
      },
      "execution_count": null,
      "outputs": []
    },
    {
      "cell_type": "code",
      "source": [
        "y_pred_acetic_acid = model_acetic_acid.predict(X_test_acetic_acid)\n",
        "y_pred_acetic_acid_binary = (y_pred_acetic_acid > 0.5).astype(int)"
      ],
      "metadata": {
        "id": "JhknW8dU8nNk"
      },
      "execution_count": null,
      "outputs": []
    },
    {
      "cell_type": "code",
      "source": [
        "acc = accuracy_score(y_test_acetic_acid, y_pred_acetic_acid_binary)\n",
        "prec = precision_score(y_test_acetic_acid, y_pred_acetic_acid_binary, zero_division=0)\n",
        "rec = recall_score(y_test_acetic_acid, y_pred_acetic_acid_binary, zero_division=0)\n",
        "f1 = f1_score(y_test_acetic_acid, y_pred_acetic_acid_binary, zero_division=0)\n",
        "\n",
        "print(f'Accuracy: {acc}')\n",
        "print(f'Precision: {prec}')\n",
        "print(f'Recall: {rec}')\n",
        "print(f'F1-score: {f1}')"
      ],
      "metadata": {
        "id": "pekAe3n_8sEG"
      },
      "execution_count": null,
      "outputs": []
    },
    {
      "cell_type": "code",
      "source": [
        "print(\"Classification Report:\", classification_report(y_test_acetic_acid, y_pred_acetic_acid_binary, zero_division=0))"
      ],
      "metadata": {
        "id": "Ln4-RhbQ8ttf"
      },
      "execution_count": null,
      "outputs": []
    },
    {
      "cell_type": "code",
      "source": [
        "cm = confusion_matrix(y_test_acetic_acid, y_pred_acetic_acid_binary)\n",
        "plt.figure(figsize=(6, 4))\n",
        "sns.heatmap(cm, annot=True, fmt='d', cmap='Blues')\n",
        "plt.title('Confusion Matrix - Acetic Acid')\n",
        "plt.xlabel('Predicted Labels')\n",
        "plt.ylabel('True Labels')\n",
        "plt.show()"
      ],
      "metadata": {
        "id": "23o_yvNw9m-5"
      },
      "execution_count": null,
      "outputs": []
    }
  ]
}