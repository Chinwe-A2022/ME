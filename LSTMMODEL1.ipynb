{
 "cells": [
  {
   "cell_type": "code",
   "execution_count": null,
   "metadata": {
    "colab": {
     "base_uri": "https://localhost:8080/"
    },
    "id": "fezoazN64DAX",
    "outputId": "b45a1a20-b0b9-490b-bd4a-08b6c528d21b"
   },
   "outputs": [
    {
     "name": "stdout",
     "output_type": "stream",
     "text": [
      "Drive already mounted at /content/drive; to attempt to forcibly remount, call drive.mount(\"/content/drive\", force_remount=True).\n"
     ]
    }
   ],
   "source": [
    "from google.colab import drive\n",
    "drive.mount('/content/drive')"
   ]
  },
  {
   "cell_type": "code",
   "execution_count": null,
   "metadata": {
    "id": "X2iw2jo14WE-"
   },
   "outputs": [],
   "source": [
    "import zipfile\n",
    "import os\n",
    "\n",
    "zip_ref = zipfile.ZipFile('/content/sample_data/SALTMODELS_k.zip','r') #Opens the zip file\n",
    "zip_ref.extractall('/tmp') #Extracts the files into the /tmp folder\n",
    "zip_ref.close()"
   ]
  },
  {
   "cell_type": "code",
   "execution_count": null,
   "metadata": {
    "id": "pThe0jxT4f1M"
   },
   "outputs": [],
   "source": [
    "import pandas as pd\n",
    "from sklearn.model_selection import train_test_split\n",
    "from sklearn.preprocessing import MinMaxScaler\n",
    "from sklearn.metrics import accuracy_score, precision_score, recall_score, f1_score, confusion_matrix, roc_curve, auc, mean_squared_error, mean_absolute_error\n",
    "import numpy as np\n",
    "import tensorflow as tf"
   ]
  },
  {
   "cell_type": "code",
   "execution_count": null,
   "metadata": {
    "id": "SbhVxzDb4iF2"
   },
   "outputs": [],
   "source": [
    "import tensorflow as tf\n",
    "from tensorflow.keras.models import Sequential\n",
    "from tensorflow.keras.layers import Dense, Conv2D, MaxPooling2D, Flatten, Dropout\n",
    "from tensorflow.keras.preprocessing.image import ImageDataGenerator\n",
    "import tensorflow_hub as hub\n",
    "from tensorflow.keras.utils import load_img\n",
    "from tensorflow.keras.utils import img_to_array\n",
    "from tensorflow import keras\n",
    "from keras.datasets import mnist\n",
    "from keras.models import Sequential\n",
    "from keras.layers import Conv2D\n",
    "from keras.layers import MaxPool2D\n",
    "from keras.layers import Flatten\n",
    "from keras.layers import Dropout\n",
    "from keras.layers import Dense\n",
    "from sklearn.model_selection import train_test_split\n",
    "from sklearn.preprocessing import LabelEncoder\n",
    "import cv2 as cv\n",
    "from torch.utils.data import DataLoader"
   ]
  },
  {
   "cell_type": "code",
   "execution_count": null,
   "metadata": {
    "id": "E604riMU4wz8"
   },
   "outputs": [],
   "source": [
    "import pandas as pd\n",
    "import numpy as np\n",
    "from sklearn.model_selection import train_test_split\n",
    "from sklearn.metrics import accuracy_score, precision_score, recall_score, f1_score, confusion_matrix, roc_auc_score, mean_squared_error\n",
    "from sklearn.preprocessing import MinMaxScaler, OneHotEncoder\n",
    "import tensorflow as tf\n",
    "from tensorflow.keras.models import Sequential\n",
    "from tensorflow.keras.layers import LSTM, Dense, Dropout\n",
    "from tensorflow.keras.utils import to_categorical\n",
    "from tensorflow.keras.optimizers import Adam\n",
    "from sklearn.metrics import roc_curve"
   ]
  },
  {
   "cell_type": "code",
   "execution_count": null,
   "metadata": {
    "id": "Z38uUSbO4yy_"
   },
   "outputs": [],
   "source": [
    "from torchvision import transforms, models\n",
    "from torch.utils.data import DataLoader, Dataset\n",
    "import torch.optim as optim\n",
    "from torchvision.transforms import ToTensor\n",
    "import matplotlib.pyplot as plt\n",
    "from torch.optim.lr_scheduler import OneCycleLR"
   ]
  },
  {
   "cell_type": "code",
   "execution_count": null,
   "metadata": {
    "id": "9LhCFT6y40hB"
   },
   "outputs": [],
   "source": [
    "import os\n",
    "import pandas as pd"
   ]
  },
  {
   "cell_type": "code",
   "execution_count": null,
   "metadata": {
    "id": "ItY6lefD5HSJ"
   },
   "outputs": [],
   "source": [
    "data_dir = \"/tmp/SALTMODELS_k\"\n",
    "# Define the file paths for the Excel files\n",
    "try:\n",
    "    salt_train_df = salt_df = pd.read_excel('/tmp/SALTMODELS_k/TRAIN_SALT_DL.xlsx', sheet_name='Fertility')  # Update this with the actual path to your file\n",
    "    salt_test_df = pd.read_excel('/tmp/SALT_MODELS/TEST_SALT_DL.xlsx', sheet_name='Sheet1')  # Update this with the actual path to your file\n",
    "except Exception as e:\n",
    "    print(\"Error loading Excel files:\", e)\n"
   ]
  },
  {
   "cell_type": "code",
   "execution_count": null,
   "metadata": {
    "id": "fg8rh-Fzj7-8"
   },
   "outputs": [],
   "source": [
    "salt_train_df = salt_train_df.drop(salt_train_df.index[0]).iloc[:, 1:]\n",
    "salt_test_df = salt_test_df.drop(salt_test_df.index[0]).iloc[:, 1:]\n"
   ]
  },
  {
   "cell_type": "code",
   "execution_count": null,
   "metadata": {
    "colab": {
     "base_uri": "https://localhost:8080/"
    },
    "id": "9oQjIu2Fj-hX",
    "outputId": "2df04e9d-ace5-4778-bf37-376d8a2a2d28"
   },
   "outputs": [
    {
     "name": "stdout",
     "output_type": "stream",
     "text": [
      "Salt train DataFrame head:\n",
      "    CHTST7-4  CHTST7-3  CHTST7-2  CHTST7-1  CHTST6-4  CHTST6-3  CHTST6-2  \\\n",
      "1     302.3     264.5     196.8     311.7     245.8     290.8     398.3   \n",
      "2     277.9     247.8     208.4     291.0     285.3     288.9     502.9   \n",
      "3     243.0     196.1     131.5     220.0     251.5     240.5     304.7   \n",
      "4     585.7    1547.0    1769.5    1840.9    1837.0     322.0     540.0   \n",
      "5    1865.5    4054.6    3834.3    4117.3    4203.3    1161.3    1554.9   \n",
      "\n",
      "   CHTST5-4  CHTST5-3  CHTST5-2  ...  CHTST3-3  CHTST3-2  CHTST3-1  CHTST2-3  \\\n",
      "1     292.2     445.8     148.3  ...     195.1     205.1     299.3     227.7   \n",
      "2     280.4     484.3     181.3  ...     251.6     225.3     279.0     270.3   \n",
      "3     210.9     368.7     153.3  ...     206.1     201.3     238.4     242.0   \n",
      "4     330.5     443.2     134.3  ...     207.0     868.4     241.3     238.0   \n",
      "5     943.6     952.4     162.9  ...     291.1     902.4     228.2     200.1   \n",
      "\n",
      "   CHTST2-2  CHTST2-1  CHTST1-4  CHTST1-3  CHTST1-2  CHTST1-1  \n",
      "1     228.3     208.2     196.5     213.4     339.6     329.7  \n",
      "2     276.4     264.8     256.6     196.8     354.1     377.9  \n",
      "3     255.4     224.3     209.3     151.7     196.0     257.0  \n",
      "4     379.3     241.0     386.5     183.4     353.0     326.9  \n",
      "5     466.2     279.6     469.0     177.8     445.6     430.5  \n",
      "\n",
      "[5 rows x 25 columns]\n",
      "Salt test DataFrame head:\n",
      "    CHTST7-4  CHTST7-3  CHTST7-2  CHTST7-1  CHTST6-4  CHTST6-3  CHTST6-2  \\\n",
      "1    1954.6    1777.7    1130.7    1487.8    1670.4    1971.9    2711.7   \n",
      "2    1757.9    1633.4    1129.5    1567.6    1603.8    2027.9    2740.0   \n",
      "3    1682.0    1628.0    1125.3    1398.6    1578.4    2058.0    2603.1   \n",
      "4    1579.7    1673.2    1067.9    1191.3    1517.3    2082.1    2469.4   \n",
      "5    1440.9    1562.8     931.2    1159.0    1493.8    1854.4    2029.7   \n",
      "\n",
      "   CHTST5-4  CHTST5-3  CHTST5-2  ...  CHTST3-3  CHTST3-2  CHTST3-1  CHTST2-3  \\\n",
      "1     561.8    1069.7    2135.5  ...     268.2     291.2     374.8     310.2   \n",
      "2     512.3    1182.5    2231.9  ...     278.2     260.1     381.0     404.9   \n",
      "3     480.0    1091.5    2180.5  ...     271.0     238.3     345.0     685.8   \n",
      "4     409.5    1066.2    1954.3  ...     280.3     239.2     342.7     988.5   \n",
      "5     256.7     834.6    1436.3  ...     265.9     228.8     314.6     967.1   \n",
      "\n",
      "   CHTST2-2  CHTST2-1  CHTST1-4  CHTST1-3  CHTST1-2  CHTST1-1  \n",
      "1     289.7     507.0     549.8     171.0     155.0     188.0  \n",
      "2     321.1     494.3     442.0     178.7     168.9     211.8  \n",
      "3     448.6     476.3     347.5     190.5     170.9     209.5  \n",
      "4     516.8     440.1     341.9     178.4     168.5     202.9  \n",
      "5     418.6     340.2     246.2     107.4     154.2     187.4  \n",
      "\n",
      "[5 rows x 25 columns]\n"
     ]
    }
   ],
   "source": [
    "# Check if the DataFrames are processed correctly\n",
    "print(\"Salt train DataFrame head:\\n\", salt_train_df.head())\n",
    "print(\"Salt test DataFrame head:\\n\", salt_test_df.head())"
   ]
  },
  {
   "cell_type": "code",
   "execution_count": null,
   "metadata": {
    "id": "zJTFYEB7zu0q"
   },
   "outputs": [],
   "source": [
    "y = np.where(salt_train_df.iloc[:, 0] > 470, 1, 0)\n",
    "# Convert labels to categorical (one-hot encoding)\n",
    "\n",
    "# Your features matrix X remains the same\n",
    "X = np.array(salt_train_df.iloc[:, 1:])"
   ]
  },
  {
   "cell_type": "code",
   "execution_count": null,
   "metadata": {
    "colab": {
     "base_uri": "https://localhost:8080/"
    },
    "id": "za7a3UueOZP-",
    "outputId": "b98172f5-e571-4863-abd1-af7a0393c645"
   },
   "outputs": [
    {
     "name": "stdout",
     "output_type": "stream",
     "text": [
      "[[ 264.5  196.8  311.7 ...  213.4  339.6  329.7]\n",
      " [ 247.8  208.4  291.  ...  196.8  354.1  377.9]\n",
      " [ 196.1  131.5  220.  ...  151.7  196.   257. ]\n",
      " ...\n",
      " [2339.1  705.3 1046.6 ...  263.7  473.1  256. ]\n",
      " [2080.9  661.   998.8 ...  165.4  275.8  238.4]\n",
      " [1952.1  695.1 1006.3 ...  180.9  197.2  210.3]]\n"
     ]
    }
   ],
   "source": [
    "print(X)"
   ]
  },
  {
   "cell_type": "code",
   "execution_count": null,
   "metadata": {
    "id": "E2Lja35AR1vF"
   },
   "outputs": [],
   "source": [
    "X = X.reshape((X.shape[0], X.shape[1], 1))"
   ]
  },
  {
   "cell_type": "code",
   "execution_count": null,
   "metadata": {
    "colab": {
     "base_uri": "https://localhost:8080/"
    },
    "id": "ccIOHG2PR8Nc",
    "outputId": "8722c1c8-d72d-4f70-b5ef-f18d1f1a101d"
   },
   "outputs": [
    {
     "name": "stdout",
     "output_type": "stream",
     "text": [
      "[[[ 264.5]\n",
      "  [ 196.8]\n",
      "  [ 311.7]\n",
      "  ...\n",
      "  [ 213.4]\n",
      "  [ 339.6]\n",
      "  [ 329.7]]\n",
      "\n",
      " [[ 247.8]\n",
      "  [ 208.4]\n",
      "  [ 291. ]\n",
      "  ...\n",
      "  [ 196.8]\n",
      "  [ 354.1]\n",
      "  [ 377.9]]\n",
      "\n",
      " [[ 196.1]\n",
      "  [ 131.5]\n",
      "  [ 220. ]\n",
      "  ...\n",
      "  [ 151.7]\n",
      "  [ 196. ]\n",
      "  [ 257. ]]\n",
      "\n",
      " ...\n",
      "\n",
      " [[2339.1]\n",
      "  [ 705.3]\n",
      "  [1046.6]\n",
      "  ...\n",
      "  [ 263.7]\n",
      "  [ 473.1]\n",
      "  [ 256. ]]\n",
      "\n",
      " [[2080.9]\n",
      "  [ 661. ]\n",
      "  [ 998.8]\n",
      "  ...\n",
      "  [ 165.4]\n",
      "  [ 275.8]\n",
      "  [ 238.4]]\n",
      "\n",
      " [[1952.1]\n",
      "  [ 695.1]\n",
      "  [1006.3]\n",
      "  ...\n",
      "  [ 180.9]\n",
      "  [ 197.2]\n",
      "  [ 210.3]]]\n"
     ]
    }
   ],
   "source": [
    "print(X)"
   ]
  },
  {
   "cell_type": "code",
   "execution_count": null,
   "metadata": {
    "id": "6wFkPg0S-Rkl"
   },
   "outputs": [],
   "source": [
    "from sklearn.model_selection import train_test_split\n",
    "\n",
    "X_train, X_val, y_train, y_val = train_test_split(X, y, test_size=0.36, stratify=y, random_state=47)"
   ]
  },
  {
   "cell_type": "code",
   "execution_count": null,
   "metadata": {
    "colab": {
     "base_uri": "https://localhost:8080/"
    },
    "id": "PCXopbDxCPHC",
    "outputId": "725bd63d-55db-47bb-a010-b06745736966"
   },
   "outputs": [
    {
     "name": "stdout",
     "output_type": "stream",
     "text": [
      "Validation set size: 17\n"
     ]
    }
   ],
   "source": [
    "print(\"Validation set size:\", len(X_val))"
   ]
  },
  {
   "cell_type": "code",
   "execution_count": null,
   "metadata": {
    "colab": {
     "base_uri": "https://localhost:8080/"
    },
    "id": "zRDAAjYiCUah",
    "outputId": "ed8a6bc2-6411-48bd-ff4a-8964ccc528cd"
   },
   "outputs": [
    {
     "name": "stdout",
     "output_type": "stream",
     "text": [
      "Validation set size: 28\n"
     ]
    }
   ],
   "source": [
    "print(\"Validation set size:\", len(X_train))"
   ]
  },
  {
   "cell_type": "code",
   "execution_count": null,
   "metadata": {
    "id": "iCIQN6SGTdbA"
   },
   "outputs": [],
   "source": [
    "# # Define the custom loss function\n",
    "# def custom_loss(y_true, y_pred):\n",
    "#     # Convert y_pred to binary categories based on the threshold\n",
    "#     y_pred_binary = tf.where(y_pred < 650, 0, 1)\n",
    "#     # Use binary cross-entropy loss\n",
    "#     return tf.keras.losses.binary_crossentropy(y_true, y_pred_binary)"
   ]
  },
  {
   "cell_type": "code",
   "execution_count": null,
   "metadata": {
    "id": "TfRKhRAO8nGT"
   },
   "outputs": [],
   "source": [
    "# from tensorflow.keras.callbacks import EarlyStopping\n",
    "\n",
    "# early_stopping = EarlyStopping(monitor='val_loss', patience=10, restore_best_weights=True)"
   ]
  },
  {
   "cell_type": "code",
   "execution_count": null,
   "metadata": {
    "id": "6O0b5vR_TEvt"
   },
   "outputs": [],
   "source": [
    "from tensorflow.keras.layers import Dropout\n",
    "from tensorflow.keras.regularizers import l2\n",
    "\n",
    "# Define the LSTM model with two LSTM layers and a dropout layer\n",
    "modelu = Sequential([\n",
    "    LSTM(50, input_shape=(X_train.shape[1], X_train.shape[2]), kernel_regularizer=l2(0.01)),\n",
    "    Dropout(0.3),\n",
    "    Dense(1, activation='sigmoid')  # Output layer for binary classification\n",
    "])"
   ]
  },
  {
   "cell_type": "code",
   "execution_count": null,
   "metadata": {
    "id": "kLojfNnOTJO_"
   },
   "outputs": [],
   "source": [
    "# Compile the model\n",
    "modelu.compile(optimizer='adam', loss='binary_crossentropy', metrics=['accuracy'])"
   ]
  },
  {
   "cell_type": "code",
   "execution_count": null,
   "metadata": {
    "colab": {
     "base_uri": "https://localhost:8080/"
    },
    "id": "gS2zCNrWTMSx",
    "outputId": "4bf71dd0-a760-435d-fa33-b0e5542d60db"
   },
   "outputs": [
    {
     "name": "stdout",
     "output_type": "stream",
     "text": [
      "Epoch 1/50\n",
      "1/1 [==============================] - 3s 3s/step - loss: 0.8566 - accuracy: 0.3571 - val_loss: 0.7171 - val_accuracy: 0.2941\n",
      "Epoch 2/50\n",
      "1/1 [==============================] - 0s 66ms/step - loss: 0.7877 - accuracy: 0.5714 - val_loss: 0.6801 - val_accuracy: 0.9412\n",
      "Epoch 3/50\n",
      "1/1 [==============================] - 0s 78ms/step - loss: 0.7013 - accuracy: 0.6071 - val_loss: 0.6434 - val_accuracy: 0.9412\n",
      "Epoch 4/50\n",
      "1/1 [==============================] - 0s 64ms/step - loss: 0.7178 - accuracy: 0.4643 - val_loss: 0.6086 - val_accuracy: 0.9412\n",
      "Epoch 5/50\n",
      "1/1 [==============================] - 0s 63ms/step - loss: 0.5798 - accuracy: 0.7857 - val_loss: 0.5774 - val_accuracy: 0.9412\n",
      "Epoch 6/50\n",
      "1/1 [==============================] - 0s 61ms/step - loss: 0.6021 - accuracy: 0.7500 - val_loss: 0.5513 - val_accuracy: 0.9412\n",
      "Epoch 7/50\n",
      "1/1 [==============================] - 0s 65ms/step - loss: 0.5480 - accuracy: 0.8214 - val_loss: 0.5301 - val_accuracy: 0.9412\n",
      "Epoch 8/50\n",
      "1/1 [==============================] - 0s 47ms/step - loss: 0.6440 - accuracy: 0.6429 - val_loss: 0.5122 - val_accuracy: 0.9412\n",
      "Epoch 9/50\n",
      "1/1 [==============================] - 0s 67ms/step - loss: 0.5929 - accuracy: 0.7857 - val_loss: 0.4964 - val_accuracy: 0.9412\n",
      "Epoch 10/50\n",
      "1/1 [==============================] - 0s 51ms/step - loss: 0.5965 - accuracy: 0.6786 - val_loss: 0.4822 - val_accuracy: 0.9412\n",
      "Epoch 11/50\n",
      "1/1 [==============================] - 0s 51ms/step - loss: 0.5107 - accuracy: 0.8571 - val_loss: 0.4694 - val_accuracy: 0.9412\n",
      "Epoch 12/50\n",
      "1/1 [==============================] - 0s 67ms/step - loss: 0.4936 - accuracy: 0.8214 - val_loss: 0.4578 - val_accuracy: 0.9412\n",
      "Epoch 13/50\n",
      "1/1 [==============================] - 0s 52ms/step - loss: 0.5562 - accuracy: 0.8571 - val_loss: 0.4475 - val_accuracy: 0.9412\n",
      "Epoch 14/50\n",
      "1/1 [==============================] - 0s 51ms/step - loss: 0.4532 - accuracy: 0.8929 - val_loss: 0.4384 - val_accuracy: 0.9412\n",
      "Epoch 15/50\n",
      "1/1 [==============================] - 0s 65ms/step - loss: 0.5335 - accuracy: 0.8571 - val_loss: 0.4300 - val_accuracy: 0.9412\n",
      "Epoch 16/50\n",
      "1/1 [==============================] - 0s 54ms/step - loss: 0.4618 - accuracy: 0.8929 - val_loss: 0.4222 - val_accuracy: 0.9412\n",
      "Epoch 17/50\n",
      "1/1 [==============================] - 0s 47ms/step - loss: 0.4660 - accuracy: 0.8214 - val_loss: 0.4145 - val_accuracy: 0.9412\n",
      "Epoch 18/50\n",
      "1/1 [==============================] - 0s 63ms/step - loss: 0.4171 - accuracy: 0.9286 - val_loss: 0.4067 - val_accuracy: 0.9412\n",
      "Epoch 19/50\n",
      "1/1 [==============================] - 0s 58ms/step - loss: 0.5061 - accuracy: 0.8214 - val_loss: 0.3988 - val_accuracy: 0.9412\n",
      "Epoch 20/50\n",
      "1/1 [==============================] - 0s 67ms/step - loss: 0.4519 - accuracy: 0.8571 - val_loss: 0.3906 - val_accuracy: 0.9412\n",
      "Epoch 21/50\n",
      "1/1 [==============================] - 0s 61ms/step - loss: 0.4452 - accuracy: 0.8929 - val_loss: 0.3821 - val_accuracy: 0.9412\n",
      "Epoch 22/50\n",
      "1/1 [==============================] - 0s 67ms/step - loss: 0.4497 - accuracy: 0.9286 - val_loss: 0.3735 - val_accuracy: 0.9412\n",
      "Epoch 23/50\n",
      "1/1 [==============================] - 0s 46ms/step - loss: 0.4685 - accuracy: 0.9286 - val_loss: 0.3648 - val_accuracy: 0.9412\n",
      "Epoch 24/50\n",
      "1/1 [==============================] - 0s 71ms/step - loss: 0.3856 - accuracy: 0.8929 - val_loss: 0.3564 - val_accuracy: 0.9412\n",
      "Epoch 25/50\n",
      "1/1 [==============================] - 0s 46ms/step - loss: 0.4090 - accuracy: 0.9286 - val_loss: 0.3483 - val_accuracy: 0.9412\n",
      "Epoch 26/50\n",
      "1/1 [==============================] - 0s 51ms/step - loss: 0.4179 - accuracy: 0.9286 - val_loss: 0.3407 - val_accuracy: 0.9412\n",
      "Epoch 27/50\n",
      "1/1 [==============================] - 0s 48ms/step - loss: 0.4439 - accuracy: 0.8571 - val_loss: 0.3336 - val_accuracy: 0.9412\n",
      "Epoch 28/50\n",
      "1/1 [==============================] - 0s 54ms/step - loss: 0.4510 - accuracy: 0.9286 - val_loss: 0.3269 - val_accuracy: 0.9412\n",
      "Epoch 29/50\n",
      "1/1 [==============================] - 0s 48ms/step - loss: 0.4005 - accuracy: 0.8929 - val_loss: 0.3206 - val_accuracy: 0.9412\n",
      "Epoch 30/50\n",
      "1/1 [==============================] - 0s 67ms/step - loss: 0.2960 - accuracy: 0.9286 - val_loss: 0.3148 - val_accuracy: 0.9412\n",
      "Epoch 31/50\n",
      "1/1 [==============================] - 0s 62ms/step - loss: 0.3539 - accuracy: 0.9286 - val_loss: 0.3095 - val_accuracy: 0.9412\n",
      "Epoch 32/50\n",
      "1/1 [==============================] - 0s 61ms/step - loss: 0.3638 - accuracy: 0.8929 - val_loss: 0.3046 - val_accuracy: 0.9412\n",
      "Epoch 33/50\n",
      "1/1 [==============================] - 0s 65ms/step - loss: 0.3441 - accuracy: 0.9286 - val_loss: 0.2980 - val_accuracy: 0.9412\n",
      "Epoch 34/50\n",
      "1/1 [==============================] - 0s 49ms/step - loss: 0.3256 - accuracy: 0.9286 - val_loss: 0.2645 - val_accuracy: 0.9412\n",
      "Epoch 35/50\n",
      "1/1 [==============================] - 0s 71ms/step - loss: 0.2872 - accuracy: 0.9286 - val_loss: 0.4185 - val_accuracy: 0.9412\n",
      "Epoch 36/50\n",
      "1/1 [==============================] - 0s 61ms/step - loss: 0.5006 - accuracy: 0.9286 - val_loss: 0.4099 - val_accuracy: 0.9412\n",
      "Epoch 37/50\n",
      "1/1 [==============================] - 0s 50ms/step - loss: 0.4596 - accuracy: 0.8929 - val_loss: 0.4007 - val_accuracy: 0.9412\n",
      "Epoch 38/50\n",
      "1/1 [==============================] - 0s 50ms/step - loss: 0.4678 - accuracy: 0.8214 - val_loss: 0.3909 - val_accuracy: 0.9412\n",
      "Epoch 39/50\n",
      "1/1 [==============================] - 0s 49ms/step - loss: 0.3711 - accuracy: 0.9286 - val_loss: 0.3801 - val_accuracy: 0.9412\n",
      "Epoch 40/50\n",
      "1/1 [==============================] - 0s 46ms/step - loss: 0.4048 - accuracy: 0.8929 - val_loss: 0.3683 - val_accuracy: 0.9412\n",
      "Epoch 41/50\n",
      "1/1 [==============================] - 0s 49ms/step - loss: 0.4552 - accuracy: 0.8571 - val_loss: 0.3560 - val_accuracy: 0.9412\n",
      "Epoch 42/50\n",
      "1/1 [==============================] - 0s 47ms/step - loss: 0.3890 - accuracy: 0.9286 - val_loss: 0.3430 - val_accuracy: 0.9412\n",
      "Epoch 43/50\n",
      "1/1 [==============================] - 0s 66ms/step - loss: 0.3858 - accuracy: 0.9286 - val_loss: 0.3295 - val_accuracy: 0.9412\n",
      "Epoch 44/50\n",
      "1/1 [==============================] - 0s 66ms/step - loss: 0.3841 - accuracy: 0.8929 - val_loss: 0.3158 - val_accuracy: 0.9412\n",
      "Epoch 45/50\n",
      "1/1 [==============================] - 0s 48ms/step - loss: 0.2976 - accuracy: 0.9286 - val_loss: 0.3022 - val_accuracy: 0.9412\n",
      "Epoch 46/50\n",
      "1/1 [==============================] - 0s 67ms/step - loss: 0.3397 - accuracy: 0.9286 - val_loss: 0.2844 - val_accuracy: 0.9412\n",
      "Epoch 47/50\n",
      "1/1 [==============================] - 0s 49ms/step - loss: 0.3481 - accuracy: 0.9286 - val_loss: 0.3456 - val_accuracy: 0.9412\n",
      "Epoch 48/50\n",
      "1/1 [==============================] - 0s 48ms/step - loss: 0.4376 - accuracy: 0.8571 - val_loss: 0.3216 - val_accuracy: 0.9412\n",
      "Epoch 49/50\n",
      "1/1 [==============================] - 0s 66ms/step - loss: 0.3529 - accuracy: 0.9286 - val_loss: 0.2684 - val_accuracy: 0.9412\n",
      "Epoch 50/50\n",
      "1/1 [==============================] - 0s 47ms/step - loss: 0.2960 - accuracy: 0.9286 - val_loss: 0.2630 - val_accuracy: 0.9412\n"
     ]
    }
   ],
   "source": [
    "# Train the model\n",
    "history = modelu.fit(X_train, y_train, validation_data=(X_val, y_val), epochs=100)"
   ]
  },
  {
   "cell_type": "markdown",
   "metadata": {
    "id": "KSnQiBvK8vsU"
   },
   "source": [
    "# New Section"
   ]
  },
  {
   "cell_type": "code",
   "execution_count": null,
   "metadata": {
    "id": "UhlNTb93HTVN"
   },
   "outputs": [],
   "source": [
    "from sklearn.metrics import accuracy_score, precision_score, recall_score, f1_score\n",
    "from sklearn.metrics import roc_curve, auc, confusion_matrix, classification_report\n",
    "import matplotlib.pyplot as plt"
   ]
  },
  {
   "cell_type": "code",
   "execution_count": null,
   "metadata": {
    "colab": {
     "base_uri": "https://localhost:8080/"
    },
    "id": "fTEBkKgCHefK",
    "outputId": "1a30d30b-e87a-4a6f-b14f-204bc1b6b166"
   },
   "outputs": [
    {
     "name": "stdout",
     "output_type": "stream",
     "text": [
      "1/1 [==============================] - 0s 466ms/step\n"
     ]
    }
   ],
   "source": [
    "# Make predictions on the test set\n",
    "y_pred_salt = modelu.predict(X_val)\n",
    "y_pred_salt_binary = (y_pred_salt > 0.5).astype(int)  # Convert probabilities to binary predictions"
   ]
  },
  {
   "cell_type": "code",
   "execution_count": null,
   "metadata": {
    "id": "A5e5ZePkHeR-"
   },
   "outputs": [],
   "source": [
    "# Calculate metrics\n",
    "accuracy = accuracy_score(y_val, y_pred_salt_binary)"
   ]
  },
  {
   "cell_type": "code",
   "execution_count": null,
   "metadata": {
    "colab": {
     "base_uri": "https://localhost:8080/"
    },
    "id": "AY1VCU9XIZ3_",
    "outputId": "cb1da949-e924-4cce-89bb-138c19d3c52e"
   },
   "outputs": [
    {
     "name": "stdout",
     "output_type": "stream",
     "text": [
      "\n",
      "Classification Report:\n",
      "               precision    recall  f1-score   support\n",
      "\n",
      "           0       0.00      0.00      0.00         1\n",
      "           1       0.94      1.00      0.97        16\n",
      "\n",
      "    accuracy                           0.94        17\n",
      "   macro avg       0.47      0.50      0.48        17\n",
      "weighted avg       0.89      0.94      0.91        17\n",
      "\n"
     ]
    },
    {
     "name": "stderr",
     "output_type": "stream",
     "text": [
      "/usr/local/lib/python3.10/dist-packages/sklearn/metrics/_classification.py:1344: UndefinedMetricWarning: Precision and F-score are ill-defined and being set to 0.0 in labels with no predicted samples. Use `zero_division` parameter to control this behavior.\n",
      "  _warn_prf(average, modifier, msg_start, len(result))\n",
      "/usr/local/lib/python3.10/dist-packages/sklearn/metrics/_classification.py:1344: UndefinedMetricWarning: Precision and F-score are ill-defined and being set to 0.0 in labels with no predicted samples. Use `zero_division` parameter to control this behavior.\n",
      "  _warn_prf(average, modifier, msg_start, len(result))\n",
      "/usr/local/lib/python3.10/dist-packages/sklearn/metrics/_classification.py:1344: UndefinedMetricWarning: Precision and F-score are ill-defined and being set to 0.0 in labels with no predicted samples. Use `zero_division` parameter to control this behavior.\n",
      "  _warn_prf(average, modifier, msg_start, len(result))\n"
     ]
    }
   ],
   "source": [
    "# Classification report\n",
    "print(\"\\nClassification Report:\\n\", classification_report(y_val, y_pred_salt_binary))"
   ]
  },
  {
   "cell_type": "code",
   "execution_count": null,
   "metadata": {
    "colab": {
     "base_uri": "https://localhost:8080/",
     "height": 444
    },
    "id": "hGvvqGH8QbM4",
    "outputId": "e5eb15c5-00d8-4b6e-c1c7-712ded871022"
   },
   "outputs": [
    {
     "data": {
      "image/png": "[encoded data removed]",
      "text/plain": [
       "<Figure size 800x500 with 1 Axes>"
      ]
     },
     "metadata": {},
     "output_type": "display_data"
    }
   ],
   "source": [
    "# Plot accuracy\n",
    "plt.figure(figsize=(8, 5))\n",
    "plt.plot(history.history['accuracy'], label='Training accuracy')\n",
    "plt.plot(history.history['val_accuracy'], label='Validation Accuracy')\n",
    "plt.title('Model Accuracy')\n",
    "plt.xlabel('Epoch')\n",
    "plt.ylabel('Accuracy')\n",
    "plt.legend()\n",
    "plt.show()"
   ]
  },
  {
   "cell_type": "code",
   "execution_count": null,
   "metadata": {
    "colab": {
     "base_uri": "https://localhost:8080/",
     "height": 444
    },
    "id": "UZbkLTW3X8m4",
    "outputId": "8a92fec5-db4a-4391-d195-58a5918b0bc8"
   },
   "outputs": [
    {
     "data": {
      "image/png": "[encoded data removed]",
      "text/plain": [
       "<Figure size 800x500 with 1 Axes>"
      ]
     },
     "metadata": {},
     "output_type": "display_data"
    }
   ],
   "source": [
    "# Plot loss\n",
    "plt.figure(figsize=(8, 5))\n",
    "plt.plot(history.history['loss'], label='Training Loss')\n",
    "plt.plot(history.history['val_loss'], label='Validation Loss')\n",
    "plt.title('Model Loss')\n",
    "plt.xlabel('Epoch')\n",
    "plt.ylabel('Loss')\n",
    "plt.legend()\n",
    "plt.show()"
   ]
  },
  {
   "cell_type": "code",
   "execution_count": null,
   "metadata": {
    "id": "yeRiputKQUaE"
   },
   "outputs": [],
   "source": [
    "from sklearn.metrics import classification_report, confusion_matrix, roc_curve, auc, accuracy_score, precision_score, recall_score, f1_score\n",
    "import matplotlib.pyplot as plt\n",
    "import seaborn as sns"
   ]
  },
  {
   "cell_type": "code",
   "execution_count": null,
   "metadata": {
    "colab": {
     "base_uri": "https://localhost:8080/"
    },
    "id": "_9BhmdcOAz5D",
    "outputId": "c592729d-d93d-4941-df5c-f7ada1635c99"
   },
   "outputs": [
    {
     "name": "stdout",
     "output_type": "stream",
     "text": [
      "(24, 24, 1)\n",
      "(24, 2)\n"
     ]
    }
   ],
   "source": [
    "print(X.shape)\n",
    "print(y.shape)"
   ]
  },
  {
   "cell_type": "code",
   "execution_count": null,
   "metadata": {
    "id": "TvBocDK9i00N"
   },
   "outputs": [],
   "source": [
    "# def preprocess_data(df):\n",
    "#     # Convert fertility values to categories: 0 for good (< 690), 1 for bad (>= 690)\n",
    "#     # Ensure that labels are a 1D array with one label per sample\n",
    "#     labels = (df.mean(axis=1) >= 477).astype(int)\n",
    "#     # Normalize the data\n",
    "#     scaler = MinMaxScaler(feature_range=(0, 1))\n",
    "#     data_normalized = scaler.fit_transform(df)\n",
    "#     # Reshape the data to fit the LSTM input format (samples, timesteps, features)\n",
    "#     data_normalized = data_normalized.reshape((data_normalized.shape[0], data_normalized.shape[1], 1))\n",
    "#     return data_normalized, labels"
   ]
  },
  {
   "cell_type": "code",
   "execution_count": null,
   "metadata": {
    "id": "fUC9B-u5i3Av"
   },
   "outputs": [],
   "source": [
    "# salt_data, salt_labels = preprocess_data(salt_df)\n",
    "# acetic_acid_data, acetic_acid_labels = preprocess_data(acetic_acid_df)"
   ]
  },
  {
   "cell_type": "code",
   "execution_count": null,
   "metadata": {
    "id": "nNpnxwn7kEwO"
   },
   "outputs": [],
   "source": [
    "# # Split the data into training, validation, and testing sets\n",
    "# X_train_salt, X_test_salt, y_train_salt, y_test_salt = train_test_split(salt_data, salt_labels, test_size=0.3, random_state=42)\n",
    "# X_train_acetic_acid, X_test_acetic_acid, y_train_acetic_acid, y_test_acetic_acid = train_test_split(acetic_acid_data, acetic_acid_labels, test_size=0.3, random_state=42)"
   ]
  },
  {
   "cell_type": "code",
   "execution_count": null,
   "metadata": {
    "id": "OitJYfNAc-0W"
   },
   "outputs": [],
   "source": [
    "# # Check if the DataFrames are processed correctly\n",
    "# print(\"Salt Ttest head:\\n\", X_test_salt.head())\n",
    "# print(\"Salt Ytest head:\\n\", acetic_acid_df.head())"
   ]
  },
  {
   "cell_type": "code",
   "execution_count": null,
   "metadata": {
    "colab": {
     "base_uri": "https://localhost:8080/",
     "height": 862
    },
    "id": "M_DARbW49bb0",
    "outputId": "d160c44e-72e3-4724-ae02-ca9f529a829f"
   },
   "outputs": [
    {
     "name": "stdout",
     "output_type": "stream",
     "text": [
      "Epoch 1/100\n",
      "2/2 [==============================] - 58s 1s/step - loss: 0.7364 - accuracy: 0.7368 - val_loss: 0.7143 - val_accuracy: 1.0000\n",
      "Epoch 2/100\n",
      "2/2 [==============================] - 0s 56ms/step - loss: 0.7338 - accuracy: 0.7895 - val_loss: 0.7121 - val_accuracy: 1.0000\n",
      "Epoch 3/100\n",
      "2/2 [==============================] - 0s 57ms/step - loss: 0.7680 - accuracy: 0.7895 - val_loss: 0.7100 - val_accuracy: 1.0000\n",
      "Epoch 4/100\n",
      "2/2 [==============================] - 0s 71ms/step - loss: 0.7728 - accuracy: 0.7895 - val_loss: 0.7082 - val_accuracy: 1.0000\n",
      "Epoch 5/100\n",
      "2/2 [==============================] - 0s 76ms/step - loss: 0.7300 - accuracy: 0.7895 - val_loss: 0.7062 - val_accuracy: 1.0000\n",
      "Epoch 6/100\n",
      "2/2 [==============================] - 0s 58ms/step - loss: 0.7433 - accuracy: 0.7895 - val_loss: 0.7042 - val_accuracy: 1.0000\n",
      "Epoch 7/100\n",
      "2/2 [==============================] - 0s 58ms/step - loss: 0.7491 - accuracy: 0.7895 - val_loss: 0.7022 - val_accuracy: 1.0000\n",
      "Epoch 8/100\n",
      "2/2 [==============================] - 0s 73ms/step - loss: 0.7550 - accuracy: 0.7895 - val_loss: 0.7003 - val_accuracy: 1.0000\n",
      "Epoch 9/100\n",
      "2/2 [==============================] - 0s 58ms/step - loss: 0.7247 - accuracy: 0.7895 - val_loss: 0.6983 - val_accuracy: 1.0000\n",
      "Epoch 10/100\n",
      "2/2 [==============================] - 0s 59ms/step - loss: 0.7303 - accuracy: 0.7895 - val_loss: 0.6962 - val_accuracy: 1.0000\n",
      "Epoch 11/100\n",
      "2/2 [==============================] - 0s 57ms/step - loss: 0.7219 - accuracy: 0.7895 - val_loss: 0.6940 - val_accuracy: 1.0000\n",
      "Epoch 12/100\n",
      "2/2 [==============================] - 0s 61ms/step - loss: 0.6972 - accuracy: 0.7895 - val_loss: 0.6919 - val_accuracy: 1.0000\n",
      "Epoch 13/100\n",
      "1/2 [==============>...............] - ETA: 0s - loss: 0.7488 - accuracy: 0.7000"
     ]
    }
   ],
   "source": [
    "from tensorflow.keras.models import Sequential\n",
    "from tensorflow.keras.layers import LSTM, Dropout, Dense, BatchNormalization\n",
    "from tensorflow.keras.regularizers import l1, l2\n",
    "from tensorflow.keras.callbacks import EarlyStopping\n",
    "\n",
    "# Define the LSTM model with increased regularization and additional strategies\n",
    "model_saltly = Sequential()\n",
    "model_saltly.add(LSTM(units=32, input_shape=(X_train.shape[1], 1), return_sequences=True))  # Reduced complexity\n",
    "model_saltly.add(Dropout(0.3))\n",
    "model_saltly.add(BatchNormalization())  # Added batch normalization\n",
    "model_saltly.add(LSTM(units=1))  # Reduced complexity\n",
    "model_saltly.add(Dense(units=1, activation='sigmoid', kernel_regularizer=l1(0.05)))\n",
    "model_saltly.add(Dense(units=1, activation='tanh', kernel_regularizer=l2(0.05)))\n",
    "model_saltly.add(Dense(units=1, activation='tanh'))\n",
    "model_saltly.add(Dropout(0.5))\n",
    "model_saltly.add(Dense(units=1, activation='sigmoid'))\n",
    "\n",
    "# Set up early stopping\n",
    "early_stopping = EarlyStopping(monitor='val_loss', patience=10, restore_best_weights=True)\n",
    "\n",
    "# Compile and train the model with early stopping\n",
    "model_saltly.compile(optimizer='adam', loss='binary_crossentropy', metrics=['accuracy'])\n",
    "model_saltly.fit(X_train, y_train, epochs=100, batch_size=10, validation_data=(X_val, y_val), callbacks=[early_stopping])"
   ]
  },
  {
   "cell_type": "code",
   "execution_count": null,
   "metadata": {
    "id": "SUhRjSyokKJZ"
   },
   "outputs": [],
   "source": [
    "# # Compile the model\n",
    "# model_saltly.compile(optimizer='adam', loss='binary_crossentropy', metrics=['accuracy'])\n"
   ]
  },
  {
   "cell_type": "code",
   "execution_count": null,
   "metadata": {
    "id": "EZCTYp8aOv-b"
   },
   "outputs": [],
   "source": [
    "model_salt = Sequential()\n",
    "model_salt.add(LSTM(units=64, input_shape=(X_train_salt.shape[1], 1), return_sequences=True))  # Increase LSTM units\n",
    "model_salt.add(Dropout(0.1))  # Add dropout for regularization\n",
    "model_salt.add(LSTM(units=32))\n",
    "model_salt.add(Dense(1, activation='sigmoid'))"
   ]
  },
  {
   "cell_type": "code",
   "execution_count": null,
   "metadata": {
    "id": "wJueUg1XmsH-"
   },
   "outputs": [],
   "source": [
    "# Compile the model\n",
    "model_salt.compile(optimizer='adam', loss='binary_crossentropy', metrics=['accuracy'])"
   ]
  },
  {
   "cell_type": "code",
   "execution_count": null,
   "metadata": {
    "colab": {
     "base_uri": "https://localhost:8080/"
    },
    "id": "lYG8Hs3JQp0G",
    "outputId": "8f021b24-3af1-4a78-807a-147e2f207dd1"
   },
   "outputs": [
    {
     "name": "stdout",
     "output_type": "stream",
     "text": [
      "Epoch 1/100\n",
      "1/1 [==============================] - 6s 6s/step - loss: 0.7153 - accuracy: 0.1000 - val_loss: 0.6928 - val_accuracy: 0.7143\n",
      "Epoch 2/100\n",
      "1/1 [==============================] - 0s 73ms/step - loss: 0.6931 - accuracy: 0.6000 - val_loss: 0.6690 - val_accuracy: 1.0000\n",
      "Epoch 3/100\n",
      "1/1 [==============================] - 0s 73ms/step - loss: 0.6724 - accuracy: 0.9000 - val_loss: 0.6460 - val_accuracy: 1.0000\n",
      "Epoch 4/100\n",
      "1/1 [==============================] - 0s 76ms/step - loss: 0.6519 - accuracy: 0.9000 - val_loss: 0.6230 - val_accuracy: 1.0000\n",
      "Epoch 5/100\n",
      "1/1 [==============================] - 0s 67ms/step - loss: 0.6314 - accuracy: 0.9000 - val_loss: 0.5992 - val_accuracy: 1.0000\n",
      "Epoch 6/100\n",
      "1/1 [==============================] - 0s 74ms/step - loss: 0.6109 - accuracy: 0.9000 - val_loss: 0.5740 - val_accuracy: 1.0000\n",
      "Epoch 7/100\n",
      "1/1 [==============================] - 0s 78ms/step - loss: 0.5893 - accuracy: 0.9000 - val_loss: 0.5465 - val_accuracy: 1.0000\n",
      "Epoch 8/100\n",
      "1/1 [==============================] - 0s 65ms/step - loss: 0.5660 - accuracy: 0.9000 - val_loss: 0.5159 - val_accuracy: 1.0000\n",
      "Epoch 9/100\n",
      "1/1 [==============================] - 0s 74ms/step - loss: 0.5386 - accuracy: 0.9000 - val_loss: 0.4812 - val_accuracy: 1.0000\n",
      "Epoch 10/100\n",
      "1/1 [==============================] - 0s 77ms/step - loss: 0.5090 - accuracy: 0.9000 - val_loss: 0.4415 - val_accuracy: 1.0000\n",
      "Epoch 11/100\n",
      "1/1 [==============================] - 0s 81ms/step - loss: 0.4759 - accuracy: 0.9000 - val_loss: 0.3961 - val_accuracy: 1.0000\n",
      "Epoch 12/100\n",
      "1/1 [==============================] - 0s 77ms/step - loss: 0.4367 - accuracy: 0.9000 - val_loss: 0.3447 - val_accuracy: 1.0000\n",
      "Epoch 13/100\n",
      "1/1 [==============================] - 0s 80ms/step - loss: 0.3941 - accuracy: 0.9000 - val_loss: 0.2881 - val_accuracy: 1.0000\n",
      "Epoch 14/100\n",
      "1/1 [==============================] - 0s 64ms/step - loss: 0.3487 - accuracy: 0.9000 - val_loss: 0.2286 - val_accuracy: 1.0000\n",
      "Epoch 15/100\n",
      "1/1 [==============================] - 0s 64ms/step - loss: 0.3021 - accuracy: 0.9000 - val_loss: 0.1703 - val_accuracy: 1.0000\n",
      "Epoch 16/100\n",
      "1/1 [==============================] - 0s 62ms/step - loss: 0.2581 - accuracy: 0.9000 - val_loss: 0.1186 - val_accuracy: 1.0000\n",
      "Epoch 17/100\n",
      "1/1 [==============================] - 0s 75ms/step - loss: 0.2251 - accuracy: 0.9000 - val_loss: 0.0779 - val_accuracy: 1.0000\n",
      "Epoch 18/100\n",
      "1/1 [==============================] - 0s 80ms/step - loss: 0.2080 - accuracy: 0.9000 - val_loss: 0.0500 - val_accuracy: 1.0000\n",
      "Epoch 19/100\n",
      "1/1 [==============================] - 0s 80ms/step - loss: 0.2048 - accuracy: 0.9000 - val_loss: 0.0331 - val_accuracy: 1.0000\n",
      "Epoch 20/100\n",
      "1/1 [==============================] - 0s 77ms/step - loss: 0.2134 - accuracy: 0.9000 - val_loss: 0.0236 - val_accuracy: 1.0000\n",
      "Epoch 21/100\n",
      "1/1 [==============================] - 0s 75ms/step - loss: 0.2256 - accuracy: 0.9000 - val_loss: 0.0185 - val_accuracy: 1.0000\n",
      "Epoch 22/100\n",
      "1/1 [==============================] - 0s 82ms/step - loss: 0.2344 - accuracy: 0.9000 - val_loss: 0.0159 - val_accuracy: 1.0000\n",
      "Epoch 23/100\n",
      "1/1 [==============================] - 0s 72ms/step - loss: 0.2308 - accuracy: 0.9000 - val_loss: 0.0148 - val_accuracy: 1.0000\n",
      "Epoch 24/100\n",
      "1/1 [==============================] - 0s 77ms/step - loss: 0.2260 - accuracy: 0.9000 - val_loss: 0.0147 - val_accuracy: 1.0000\n",
      "Epoch 25/100\n",
      "1/1 [==============================] - 0s 76ms/step - loss: 0.2087 - accuracy: 0.9000 - val_loss: 0.0156 - val_accuracy: 1.0000\n",
      "Epoch 26/100\n",
      "1/1 [==============================] - 0s 77ms/step - loss: 0.1944 - accuracy: 0.9000 - val_loss: 0.0175 - val_accuracy: 1.0000\n",
      "Epoch 27/100\n",
      "1/1 [==============================] - 0s 64ms/step - loss: 0.1769 - accuracy: 0.9000 - val_loss: 0.0205 - val_accuracy: 1.0000\n",
      "Epoch 28/100\n",
      "1/1 [==============================] - 0s 79ms/step - loss: 0.1617 - accuracy: 0.9000 - val_loss: 0.0248 - val_accuracy: 1.0000\n",
      "Epoch 29/100\n",
      "1/1 [==============================] - 0s 66ms/step - loss: 0.1506 - accuracy: 0.9000 - val_loss: 0.0303 - val_accuracy: 1.0000\n",
      "Epoch 30/100\n",
      "1/1 [==============================] - 0s 82ms/step - loss: 0.1434 - accuracy: 0.9000 - val_loss: 0.0364 - val_accuracy: 1.0000\n",
      "Epoch 31/100\n",
      "1/1 [==============================] - 0s 64ms/step - loss: 0.1396 - accuracy: 0.9000 - val_loss: 0.0424 - val_accuracy: 1.0000\n",
      "Epoch 32/100\n",
      "1/1 [==============================] - 0s 79ms/step - loss: 0.1368 - accuracy: 0.9000 - val_loss: 0.0469 - val_accuracy: 1.0000\n",
      "Epoch 33/100\n",
      "1/1 [==============================] - 0s 79ms/step - loss: 0.1338 - accuracy: 0.9000 - val_loss: 0.0490 - val_accuracy: 1.0000\n",
      "Epoch 34/100\n",
      "1/1 [==============================] - 0s 77ms/step - loss: 0.1313 - accuracy: 0.9000 - val_loss: 0.0481 - val_accuracy: 1.0000\n",
      "Epoch 35/100\n",
      "1/1 [==============================] - 0s 74ms/step - loss: 0.1274 - accuracy: 0.9000 - val_loss: 0.0444 - val_accuracy: 1.0000\n",
      "Epoch 36/100\n",
      "1/1 [==============================] - 0s 63ms/step - loss: 0.1211 - accuracy: 0.9000 - val_loss: 0.0386 - val_accuracy: 1.0000\n",
      "Epoch 37/100\n",
      "1/1 [==============================] - 0s 78ms/step - loss: 0.1138 - accuracy: 0.9000 - val_loss: 0.0318 - val_accuracy: 1.0000\n",
      "Epoch 38/100\n",
      "1/1 [==============================] - 0s 63ms/step - loss: 0.1048 - accuracy: 0.9000 - val_loss: 0.0252 - val_accuracy: 1.0000\n",
      "Epoch 39/100\n",
      "1/1 [==============================] - 0s 76ms/step - loss: 0.0970 - accuracy: 0.9000 - val_loss: 0.0196 - val_accuracy: 1.0000\n",
      "Epoch 40/100\n",
      "1/1 [==============================] - 0s 75ms/step - loss: 0.0898 - accuracy: 0.9000 - val_loss: 0.0151 - val_accuracy: 1.0000\n",
      "Epoch 41/100\n",
      "1/1 [==============================] - 0s 62ms/step - loss: 0.0836 - accuracy: 0.9333 - val_loss: 0.0117 - val_accuracy: 1.0000\n",
      "Epoch 42/100\n",
      "1/1 [==============================] - 0s 90ms/step - loss: 0.0781 - accuracy: 0.9333 - val_loss: 0.0092 - val_accuracy: 1.0000\n",
      "Epoch 43/100\n",
      "1/1 [==============================] - 0s 77ms/step - loss: 0.0739 - accuracy: 0.9333 - val_loss: 0.0072 - val_accuracy: 1.0000\n",
      "Epoch 44/100\n",
      "1/1 [==============================] - 0s 75ms/step - loss: 0.0699 - accuracy: 0.9667 - val_loss: 0.0057 - val_accuracy: 1.0000\n",
      "Epoch 45/100\n",
      "1/1 [==============================] - 0s 76ms/step - loss: 0.0662 - accuracy: 0.9667 - val_loss: 0.0046 - val_accuracy: 1.0000\n",
      "Epoch 46/100\n",
      "1/1 [==============================] - 0s 70ms/step - loss: 0.0624 - accuracy: 1.0000 - val_loss: 0.0037 - val_accuracy: 1.0000\n",
      "Epoch 47/100\n",
      "1/1 [==============================] - 0s 64ms/step - loss: 0.0591 - accuracy: 1.0000 - val_loss: 0.0031 - val_accuracy: 1.0000\n",
      "Epoch 48/100\n",
      "1/1 [==============================] - 0s 64ms/step - loss: 0.0558 - accuracy: 1.0000 - val_loss: 0.0026 - val_accuracy: 1.0000\n",
      "Epoch 49/100\n",
      "1/1 [==============================] - 0s 70ms/step - loss: 0.0529 - accuracy: 1.0000 - val_loss: 0.0023 - val_accuracy: 1.0000\n",
      "Epoch 50/100\n",
      "1/1 [==============================] - 0s 69ms/step - loss: 0.0502 - accuracy: 1.0000 - val_loss: 0.0020 - val_accuracy: 1.0000\n",
      "Epoch 51/100\n",
      "1/1 [==============================] - 0s 65ms/step - loss: 0.0476 - accuracy: 1.0000 - val_loss: 0.0018 - val_accuracy: 1.0000\n",
      "Epoch 52/100\n",
      "1/1 [==============================] - 0s 59ms/step - loss: 0.0449 - accuracy: 1.0000 - val_loss: 0.0017 - val_accuracy: 1.0000\n",
      "Epoch 53/100\n",
      "1/1 [==============================] - 0s 66ms/step - loss: 0.0431 - accuracy: 1.0000 - val_loss: 0.0016 - val_accuracy: 1.0000\n",
      "Epoch 54/100\n",
      "1/1 [==============================] - 0s 62ms/step - loss: 0.0417 - accuracy: 1.0000 - val_loss: 0.0015 - val_accuracy: 1.0000\n",
      "Epoch 55/100\n",
      "1/1 [==============================] - 0s 76ms/step - loss: 0.0391 - accuracy: 1.0000 - val_loss: 0.0015 - val_accuracy: 1.0000\n",
      "Epoch 56/100\n",
      "1/1 [==============================] - 0s 77ms/step - loss: 0.0377 - accuracy: 1.0000 - val_loss: 0.0014 - val_accuracy: 1.0000\n",
      "Epoch 57/100\n",
      "1/1 [==============================] - 0s 75ms/step - loss: 0.0363 - accuracy: 1.0000 - val_loss: 0.0014 - val_accuracy: 1.0000\n",
      "Epoch 58/100\n",
      "1/1 [==============================] - 0s 65ms/step - loss: 0.0345 - accuracy: 1.0000 - val_loss: 0.0014 - val_accuracy: 1.0000\n",
      "Epoch 59/100\n",
      "1/1 [==============================] - 0s 75ms/step - loss: 0.0333 - accuracy: 1.0000 - val_loss: 0.0014 - val_accuracy: 1.0000\n",
      "Epoch 60/100\n",
      "1/1 [==============================] - 0s 73ms/step - loss: 0.0321 - accuracy: 1.0000 - val_loss: 0.0014 - val_accuracy: 1.0000\n",
      "Epoch 61/100\n",
      "1/1 [==============================] - 0s 66ms/step - loss: 0.0307 - accuracy: 1.0000 - val_loss: 0.0015 - val_accuracy: 1.0000\n",
      "Epoch 62/100\n",
      "1/1 [==============================] - 0s 79ms/step - loss: 0.0297 - accuracy: 1.0000 - val_loss: 0.0015 - val_accuracy: 1.0000\n",
      "Epoch 63/100\n",
      "1/1 [==============================] - 0s 82ms/step - loss: 0.0284 - accuracy: 1.0000 - val_loss: 0.0016 - val_accuracy: 1.0000\n",
      "Epoch 64/100\n",
      "1/1 [==============================] - 0s 64ms/step - loss: 0.0274 - accuracy: 1.0000 - val_loss: 0.0018 - val_accuracy: 1.0000\n",
      "Epoch 65/100\n",
      "1/1 [==============================] - 0s 63ms/step - loss: 0.0263 - accuracy: 1.0000 - val_loss: 0.0019 - val_accuracy: 1.0000\n",
      "Epoch 66/100\n",
      "1/1 [==============================] - 0s 75ms/step - loss: 0.0251 - accuracy: 1.0000 - val_loss: 0.0022 - val_accuracy: 1.0000\n",
      "Epoch 67/100\n",
      "1/1 [==============================] - 0s 74ms/step - loss: 0.0240 - accuracy: 1.0000 - val_loss: 0.0026 - val_accuracy: 1.0000\n",
      "Epoch 68/100\n",
      "1/1 [==============================] - 0s 59ms/step - loss: 0.0230 - accuracy: 1.0000 - val_loss: 0.0030 - val_accuracy: 1.0000\n",
      "Epoch 69/100\n",
      "1/1 [==============================] - 0s 64ms/step - loss: 0.0217 - accuracy: 1.0000 - val_loss: 0.0037 - val_accuracy: 1.0000\n",
      "Epoch 70/100\n",
      "1/1 [==============================] - 0s 78ms/step - loss: 0.0209 - accuracy: 1.0000 - val_loss: 0.0046 - val_accuracy: 1.0000\n",
      "Epoch 71/100\n",
      "1/1 [==============================] - 0s 68ms/step - loss: 0.0192 - accuracy: 1.0000 - val_loss: 0.0057 - val_accuracy: 1.0000\n",
      "Epoch 72/100\n",
      "1/1 [==============================] - 0s 63ms/step - loss: 0.0184 - accuracy: 1.0000 - val_loss: 0.0073 - val_accuracy: 1.0000\n",
      "Epoch 73/100\n",
      "1/1 [==============================] - 0s 81ms/step - loss: 0.0174 - accuracy: 1.0000 - val_loss: 0.0092 - val_accuracy: 1.0000\n",
      "Epoch 74/100\n",
      "1/1 [==============================] - 0s 66ms/step - loss: 0.0160 - accuracy: 1.0000 - val_loss: 0.0116 - val_accuracy: 1.0000\n",
      "Epoch 75/100\n",
      "1/1 [==============================] - 0s 74ms/step - loss: 0.0160 - accuracy: 1.0000 - val_loss: 0.0145 - val_accuracy: 1.0000\n",
      "Epoch 76/100\n",
      "1/1 [==============================] - 0s 79ms/step - loss: 0.0144 - accuracy: 1.0000 - val_loss: 0.0179 - val_accuracy: 1.0000\n",
      "Epoch 77/100\n",
      "1/1 [==============================] - 0s 66ms/step - loss: 0.0132 - accuracy: 1.0000 - val_loss: 0.0218 - val_accuracy: 1.0000\n",
      "Epoch 78/100\n",
      "1/1 [==============================] - 0s 68ms/step - loss: 0.0123 - accuracy: 1.0000 - val_loss: 0.0261 - val_accuracy: 1.0000\n",
      "Epoch 79/100\n",
      "1/1 [==============================] - 0s 77ms/step - loss: 0.0109 - accuracy: 1.0000 - val_loss: 0.0309 - val_accuracy: 1.0000\n",
      "Epoch 80/100\n",
      "1/1 [==============================] - 0s 80ms/step - loss: 0.0103 - accuracy: 1.0000 - val_loss: 0.0359 - val_accuracy: 1.0000\n",
      "Epoch 81/100\n",
      "1/1 [==============================] - 0s 84ms/step - loss: 0.0097 - accuracy: 1.0000 - val_loss: 0.0413 - val_accuracy: 1.0000\n",
      "Epoch 82/100\n",
      "1/1 [==============================] - 0s 66ms/step - loss: 0.0093 - accuracy: 1.0000 - val_loss: 0.0467 - val_accuracy: 1.0000\n",
      "Epoch 83/100\n",
      "1/1 [==============================] - 0s 71ms/step - loss: 0.0082 - accuracy: 1.0000 - val_loss: 0.0523 - val_accuracy: 0.9286\n",
      "Epoch 84/100\n",
      "1/1 [==============================] - 0s 65ms/step - loss: 0.0079 - accuracy: 1.0000 - val_loss: 0.0579 - val_accuracy: 0.9286\n",
      "Epoch 85/100\n",
      "1/1 [==============================] - 0s 78ms/step - loss: 0.0073 - accuracy: 1.0000 - val_loss: 0.0635 - val_accuracy: 0.9286\n",
      "Epoch 86/100\n",
      "1/1 [==============================] - 0s 66ms/step - loss: 0.0063 - accuracy: 1.0000 - val_loss: 0.0691 - val_accuracy: 0.9286\n",
      "Epoch 87/100\n",
      "1/1 [==============================] - 0s 82ms/step - loss: 0.0064 - accuracy: 1.0000 - val_loss: 0.0746 - val_accuracy: 0.9286\n",
      "Epoch 88/100\n",
      "1/1 [==============================] - 0s 66ms/step - loss: 0.0054 - accuracy: 1.0000 - val_loss: 0.0800 - val_accuracy: 0.9286\n",
      "Epoch 89/100\n",
      "1/1 [==============================] - 0s 77ms/step - loss: 0.0053 - accuracy: 1.0000 - val_loss: 0.0854 - val_accuracy: 0.9286\n",
      "Epoch 90/100\n",
      "1/1 [==============================] - 0s 63ms/step - loss: 0.0052 - accuracy: 1.0000 - val_loss: 0.0906 - val_accuracy: 0.9286\n",
      "Epoch 91/100\n",
      "1/1 [==============================] - 0s 81ms/step - loss: 0.0044 - accuracy: 1.0000 - val_loss: 0.0957 - val_accuracy: 0.9286\n",
      "Epoch 92/100\n",
      "1/1 [==============================] - 0s 74ms/step - loss: 0.0044 - accuracy: 1.0000 - val_loss: 0.1006 - val_accuracy: 0.9286\n",
      "Epoch 93/100\n",
      "1/1 [==============================] - 0s 66ms/step - loss: 0.0040 - accuracy: 1.0000 - val_loss: 0.1054 - val_accuracy: 0.9286\n",
      "Epoch 94/100\n",
      "1/1 [==============================] - 0s 75ms/step - loss: 0.0037 - accuracy: 1.0000 - val_loss: 0.1101 - val_accuracy: 0.9286\n",
      "Epoch 95/100\n",
      "1/1 [==============================] - 0s 97ms/step - loss: 0.0036 - accuracy: 1.0000 - val_loss: 0.1146 - val_accuracy: 0.9286\n",
      "Epoch 96/100\n",
      "1/1 [==============================] - 0s 104ms/step - loss: 0.0035 - accuracy: 1.0000 - val_loss: 0.1190 - val_accuracy: 0.9286\n",
      "Epoch 97/100\n",
      "1/1 [==============================] - 0s 106ms/step - loss: 0.0032 - accuracy: 1.0000 - val_loss: 0.1232 - val_accuracy: 0.9286\n",
      "Epoch 98/100\n",
      "1/1 [==============================] - 0s 106ms/step - loss: 0.0031 - accuracy: 1.0000 - val_loss: 0.1272 - val_accuracy: 0.9286\n",
      "Epoch 99/100\n",
      "1/1 [==============================] - 0s 89ms/step - loss: 0.0031 - accuracy: 1.0000 - val_loss: 0.1311 - val_accuracy: 0.9286\n",
      "Epoch 100/100\n",
      "1/1 [==============================] - 0s 84ms/step - loss: 0.0029 - accuracy: 1.0000 - val_loss: 0.1348 - val_accuracy: 0.9286\n"
     ]
    }
   ],
   "source": [
    "# Train the model on the salt dataset\n",
    "history_salt = model_salt.fit(\n",
    "    X_train_salt,\n",
    "    y_train_salt,\n",
    "    epochs=100,\n",
    "    batch_size=32,\n",
    "    validation_data=(X_test_salt, y_test_salt)\n",
    ")"
   ]
  },
  {
   "cell_type": "code",
   "execution_count": null,
   "metadata": {
    "colab": {
     "base_uri": "https://localhost:8080/"
    },
    "id": "fxJBIn9EkOKK",
    "outputId": "d877c4ff-69a5-4c22-f9cf-259d8400e64b"
   },
   "outputs": [
    {
     "name": "stdout",
     "output_type": "stream",
     "text": [
      "Epoch 1/50\n",
      "1/1 [==============================] - 2s 2s/step - loss: 0.6879 - accuracy: 0.6000 - val_loss: 0.6733 - val_accuracy: 1.0000\n",
      "Epoch 2/50\n",
      "1/1 [==============================] - 0s 34ms/step - loss: 0.6808 - accuracy: 0.8667 - val_loss: 0.6611 - val_accuracy: 1.0000\n",
      "Epoch 3/50\n",
      "1/1 [==============================] - 0s 35ms/step - loss: 0.6663 - accuracy: 0.9000 - val_loss: 0.6494 - val_accuracy: 1.0000\n",
      "Epoch 4/50\n",
      "1/1 [==============================] - 0s 37ms/step - loss: 0.6596 - accuracy: 0.9000 - val_loss: 0.6380 - val_accuracy: 1.0000\n",
      "Epoch 5/50\n",
      "1/1 [==============================] - 0s 40ms/step - loss: 0.6479 - accuracy: 0.9000 - val_loss: 0.6267 - val_accuracy: 1.0000\n",
      "Epoch 6/50\n",
      "1/1 [==============================] - 0s 37ms/step - loss: 0.6380 - accuracy: 0.9000 - val_loss: 0.6155 - val_accuracy: 1.0000\n",
      "Epoch 7/50\n",
      "1/1 [==============================] - 0s 32ms/step - loss: 0.6261 - accuracy: 0.9000 - val_loss: 0.6042 - val_accuracy: 1.0000\n",
      "Epoch 8/50\n",
      "1/1 [==============================] - 0s 38ms/step - loss: 0.6219 - accuracy: 0.9000 - val_loss: 0.5926 - val_accuracy: 1.0000\n",
      "Epoch 9/50\n",
      "1/1 [==============================] - 0s 35ms/step - loss: 0.6132 - accuracy: 0.9000 - val_loss: 0.5806 - val_accuracy: 1.0000\n",
      "Epoch 10/50\n",
      "1/1 [==============================] - 0s 37ms/step - loss: 0.6030 - accuracy: 0.9000 - val_loss: 0.5680 - val_accuracy: 1.0000\n",
      "Epoch 11/50\n",
      "1/1 [==============================] - 0s 39ms/step - loss: 0.5888 - accuracy: 0.9000 - val_loss: 0.5547 - val_accuracy: 1.0000\n",
      "Epoch 12/50\n",
      "1/1 [==============================] - 0s 38ms/step - loss: 0.5815 - accuracy: 0.9000 - val_loss: 0.5403 - val_accuracy: 1.0000\n",
      "Epoch 13/50\n",
      "1/1 [==============================] - 0s 38ms/step - loss: 0.5687 - accuracy: 0.9000 - val_loss: 0.5247 - val_accuracy: 1.0000\n",
      "Epoch 14/50\n",
      "1/1 [==============================] - 0s 41ms/step - loss: 0.5549 - accuracy: 0.9000 - val_loss: 0.5074 - val_accuracy: 1.0000\n",
      "Epoch 15/50\n",
      "1/1 [==============================] - 0s 35ms/step - loss: 0.5342 - accuracy: 0.9000 - val_loss: 0.4880 - val_accuracy: 1.0000\n",
      "Epoch 16/50\n",
      "1/1 [==============================] - 0s 36ms/step - loss: 0.5171 - accuracy: 0.9000 - val_loss: 0.4660 - val_accuracy: 1.0000\n",
      "Epoch 17/50\n",
      "1/1 [==============================] - 0s 47ms/step - loss: 0.5037 - accuracy: 0.9000 - val_loss: 0.4406 - val_accuracy: 1.0000\n",
      "Epoch 18/50\n",
      "1/1 [==============================] - 0s 54ms/step - loss: 0.4853 - accuracy: 0.9000 - val_loss: 0.4111 - val_accuracy: 1.0000\n",
      "Epoch 19/50\n",
      "1/1 [==============================] - 0s 33ms/step - loss: 0.4551 - accuracy: 0.9000 - val_loss: 0.3768 - val_accuracy: 1.0000\n",
      "Epoch 20/50\n",
      "1/1 [==============================] - 0s 33ms/step - loss: 0.4234 - accuracy: 0.9000 - val_loss: 0.3371 - val_accuracy: 1.0000\n",
      "Epoch 21/50\n",
      "1/1 [==============================] - 0s 37ms/step - loss: 0.4002 - accuracy: 0.9000 - val_loss: 0.2917 - val_accuracy: 1.0000\n",
      "Epoch 22/50\n",
      "1/1 [==============================] - 0s 35ms/step - loss: 0.3521 - accuracy: 0.9000 - val_loss: 0.2416 - val_accuracy: 1.0000\n",
      "Epoch 23/50\n",
      "1/1 [==============================] - 0s 34ms/step - loss: 0.3202 - accuracy: 0.9000 - val_loss: 0.1892 - val_accuracy: 1.0000\n",
      "Epoch 24/50\n",
      "1/1 [==============================] - 0s 35ms/step - loss: 0.2675 - accuracy: 0.9000 - val_loss: 0.1384 - val_accuracy: 1.0000\n",
      "Epoch 25/50\n",
      "1/1 [==============================] - 0s 37ms/step - loss: 0.2361 - accuracy: 0.9000 - val_loss: 0.0946 - val_accuracy: 1.0000\n",
      "Epoch 26/50\n",
      "1/1 [==============================] - 0s 35ms/step - loss: 0.2150 - accuracy: 0.9000 - val_loss: 0.0618 - val_accuracy: 1.0000\n",
      "Epoch 27/50\n",
      "1/1 [==============================] - 0s 35ms/step - loss: 0.2007 - accuracy: 0.9000 - val_loss: 0.0405 - val_accuracy: 1.0000\n",
      "Epoch 28/50\n",
      "1/1 [==============================] - 0s 54ms/step - loss: 0.1971 - accuracy: 0.9000 - val_loss: 0.0282 - val_accuracy: 1.0000\n",
      "Epoch 29/50\n",
      "1/1 [==============================] - 0s 36ms/step - loss: 0.2196 - accuracy: 0.9000 - val_loss: 0.0216 - val_accuracy: 1.0000\n",
      "Epoch 30/50\n",
      "1/1 [==============================] - 0s 38ms/step - loss: 0.2417 - accuracy: 0.9000 - val_loss: 0.0183 - val_accuracy: 1.0000\n",
      "Epoch 31/50\n",
      "1/1 [==============================] - 0s 41ms/step - loss: 0.2324 - accuracy: 0.9000 - val_loss: 0.0167 - val_accuracy: 1.0000\n",
      "Epoch 32/50\n",
      "1/1 [==============================] - 0s 38ms/step - loss: 0.2492 - accuracy: 0.9000 - val_loss: 0.0163 - val_accuracy: 1.0000\n",
      "Epoch 33/50\n",
      "1/1 [==============================] - 0s 38ms/step - loss: 0.2198 - accuracy: 0.9000 - val_loss: 0.0166 - val_accuracy: 1.0000\n",
      "Epoch 34/50\n",
      "1/1 [==============================] - 0s 36ms/step - loss: 0.2196 - accuracy: 0.9000 - val_loss: 0.0177 - val_accuracy: 1.0000\n",
      "Epoch 35/50\n",
      "1/1 [==============================] - 0s 39ms/step - loss: 0.1962 - accuracy: 0.9000 - val_loss: 0.0198 - val_accuracy: 1.0000\n",
      "Epoch 36/50\n",
      "1/1 [==============================] - 0s 39ms/step - loss: 0.1937 - accuracy: 0.9000 - val_loss: 0.0230 - val_accuracy: 1.0000\n",
      "Epoch 37/50\n",
      "1/1 [==============================] - 0s 38ms/step - loss: 0.1738 - accuracy: 0.9000 - val_loss: 0.0274 - val_accuracy: 1.0000\n",
      "Epoch 38/50\n",
      "1/1 [==============================] - 0s 37ms/step - loss: 0.1663 - accuracy: 0.9000 - val_loss: 0.0330 - val_accuracy: 1.0000\n",
      "Epoch 39/50\n",
      "1/1 [==============================] - 0s 34ms/step - loss: 0.1597 - accuracy: 0.9000 - val_loss: 0.0392 - val_accuracy: 1.0000\n",
      "Epoch 40/50\n",
      "1/1 [==============================] - 0s 35ms/step - loss: 0.1504 - accuracy: 0.9000 - val_loss: 0.0455 - val_accuracy: 1.0000\n",
      "Epoch 41/50\n",
      "1/1 [==============================] - 0s 58ms/step - loss: 0.1468 - accuracy: 0.9000 - val_loss: 0.0506 - val_accuracy: 1.0000\n",
      "Epoch 42/50\n",
      "1/1 [==============================] - 0s 37ms/step - loss: 0.1589 - accuracy: 0.9000 - val_loss: 0.0539 - val_accuracy: 1.0000\n",
      "Epoch 43/50\n",
      "1/1 [==============================] - 0s 49ms/step - loss: 0.1545 - accuracy: 0.9000 - val_loss: 0.0547 - val_accuracy: 1.0000\n",
      "Epoch 44/50\n",
      "1/1 [==============================] - 0s 39ms/step - loss: 0.1449 - accuracy: 0.9000 - val_loss: 0.0527 - val_accuracy: 1.0000\n",
      "Epoch 45/50\n",
      "1/1 [==============================] - 0s 33ms/step - loss: 0.1433 - accuracy: 0.9000 - val_loss: 0.0484 - val_accuracy: 1.0000\n",
      "Epoch 46/50\n",
      "1/1 [==============================] - 0s 37ms/step - loss: 0.1507 - accuracy: 0.9000 - val_loss: 0.0424 - val_accuracy: 1.0000\n",
      "Epoch 47/50\n",
      "1/1 [==============================] - 0s 36ms/step - loss: 0.1346 - accuracy: 0.9000 - val_loss: 0.0356 - val_accuracy: 1.0000\n",
      "Epoch 48/50\n",
      "1/1 [==============================] - 0s 35ms/step - loss: 0.1315 - accuracy: 0.9000 - val_loss: 0.0291 - val_accuracy: 1.0000\n",
      "Epoch 49/50\n",
      "1/1 [==============================] - 0s 35ms/step - loss: 0.1219 - accuracy: 0.9000 - val_loss: 0.0234 - val_accuracy: 1.0000\n",
      "Epoch 50/50\n",
      "1/1 [==============================] - 0s 37ms/step - loss: 0.1154 - accuracy: 0.9000 - val_loss: 0.0187 - val_accuracy: 1.0000\n"
     ]
    }
   ],
   "source": [
    "# Train the model on the salt dataset\n",
    "history_salt = model.fit(\n",
    "    X_train_salt,\n",
    "    y_train_salt,\n",
    "    epochs=100,\n",
    "    batch_size=32,\n",
    "    validation_data=(X_test_salt, y_test_salt)\n",
    ")"
   ]
  },
  {
   "cell_type": "code",
   "execution_count": null,
   "metadata": {
    "colab": {
     "base_uri": "https://localhost:8080/"
    },
    "id": "OShLJQWNq2a_",
    "outputId": "6ee2663f-99c6-4d33-ccc6-e2b97230783c"
   },
   "outputs": [
    {
     "name": "stdout",
     "output_type": "stream",
     "text": [
      "1/1 [==============================] - 0s 15ms/step\n"
     ]
    }
   ],
   "source": [
    "# Make predictions on the test set\n",
    "y_pred_salt = model.predict(X_test_salt)\n",
    "y_pred_salt_binary = (y_pred_salt > 0.5).astype(int)  # Convert probabilities to binary predictions"
   ]
  },
  {
   "cell_type": "code",
   "execution_count": null,
   "metadata": {
    "colab": {
     "base_uri": "https://localhost:8080/"
    },
    "id": "0wbo7DsVrV4j",
    "outputId": "bf032c10-9cf8-46f8-9b79-d07b22cee327"
   },
   "outputs": [
    {
     "name": "stdout",
     "output_type": "stream",
     "text": [
      "Accuracy: 1.0\n",
      "Precision: 0.07142857142857142\n",
      "Recall: 1.0\n",
      "F1-score: 0.13333333333333333\n"
     ]
    }
   ],
   "source": [
    "# Print metrics\n",
    "print(f'Accuracy: {accuracy}')\n",
    "print(f'Precision: {precision}')\n",
    "print(f'Recall: {recall}')\n",
    "print(f'F1-score: {f1}')"
   ]
  },
  {
   "cell_type": "code",
   "execution_count": null,
   "metadata": {
    "id": "Mh7cY2anrNb2"
   },
   "outputs": [],
   "source": [
    "# Calculate metrics\n",
    "accuracy = accuracy_score(y_test_salt, y_pred_salt_binary)"
   ]
  },
  {
   "cell_type": "code",
   "execution_count": null,
   "metadata": {
    "colab": {
     "base_uri": "https://localhost:8080/"
    },
    "id": "uHnRFq6YrbdG",
    "outputId": "7699f0ef-850f-448d-92bf-b0299f7d308f"
   },
   "outputs": [
    {
     "name": "stdout",
     "output_type": "stream",
     "text": [
      "\n",
      "Classification Report:\n",
      "               precision    recall  f1-score   support\n",
      "\n",
      "           1       1.00      1.00      1.00        14\n",
      "\n",
      "    accuracy                           1.00        14\n",
      "   macro avg       1.00      1.00      1.00        14\n",
      "weighted avg       1.00      1.00      1.00        14\n",
      "\n"
     ]
    }
   ],
   "source": [
    "# Classification report\n",
    "print(\"\\nClassification Report:\\n\", classification_report(y_test_salt, y_pred_salt_binary))"
   ]
  },
  {
   "cell_type": "code",
   "execution_count": null,
   "metadata": {
    "id": "TxfvRS5frf0h"
   },
   "outputs": [],
   "source": [
    "from sklearn.metrics import classification_report, confusion_matrix, roc_curve, auc, accuracy_score, precision_score, recall_score, f1_score\n",
    "import matplotlib.pyplot as plt\n",
    "import seaborn as sns"
   ]
  },
  {
   "cell_type": "code",
   "execution_count": null,
   "metadata": {
    "colab": {
     "base_uri": "https://localhost:8080/",
     "height": 487
    },
    "id": "uuasvwUkr48i",
    "outputId": "c60b23de-b668-411a-d6bf-e55478713353"
   },
   "outputs": [
    {
     "data": {
      "image/png": "[encoded data removed]",
      "text/plain": [
       "<Figure size 800x500 with 1 Axes>"
      ]
     },
     "metadata": {},
     "output_type": "display_data"
    }
   ],
   "source": [
    "# Plot accuracy\n",
    "plt.figure(figsize=(8, 5))\n",
    "plt.plot(history_salt.history['accuracy'], label='Training Accuracy')\n",
    "plt.plot(history_salt.history['val_accuracy'], label='Validation Accuracy')\n",
    "plt.title('Model Accuracy')\n",
    "plt.xlabel('Epoch')\n",
    "plt.ylabel('Accuracy')\n",
    "plt.legend()\n",
    "plt.show()"
   ]
  },
  {
   "cell_type": "code",
   "execution_count": null,
   "metadata": {
    "colab": {
     "base_uri": "https://localhost:8080/",
     "height": 487
    },
    "id": "TDTzyjOisK-e",
    "outputId": "29fb16c9-add8-48f8-b656-c299e93e96cb"
   },
   "outputs": [
    {
     "data": {
      "image/png": "[encoded data removed]",
      "text/plain": [
       "<Figure size 800x500 with 1 Axes>"
      ]
     },
     "metadata": {},
     "output_type": "display_data"
    }
   ],
   "source": [
    "# Plot loss\n",
    "plt.figure(figsize=(8, 5))\n",
    "plt.plot(history_salt.history['loss'], label='Training Loss')\n",
    "plt.plot(history_salt.history['val_loss'], label='Validation Loss')\n",
    "plt.title('Model Loss')\n",
    "plt.xlabel('Epoch')\n",
    "plt.ylabel('Loss')\n",
    "plt.legend()\n",
    "plt.show()"
   ]
  },
  {
   "cell_type": "code",
   "execution_count": null,
   "metadata": {
    "id": "3SzI683lk0r5"
   },
   "outputs": [],
   "source": [
    "model_acetic_acid = Sequential()\n",
    "model_acetic_acid.add(LSTM(units=100, input_shape=(X_train_acetic_acid.shape[1], 1), return_sequences=True))  # Increase LSTM units\n",
    "model_acetic_acid.add(Dropout(0.2))  # Add dropout for regularization\n",
    "model_acetic_acid.add(LSTM(units=50))\n",
    "model_acetic_acid.add(Dense(1, activation='sigmoid'))"
   ]
  },
  {
   "cell_type": "code",
   "execution_count": null,
   "metadata": {
    "id": "Z18TNmH2lhMm"
   },
   "outputs": [],
   "source": [
    "model_acetic_acid.compile(optimizer='adam', loss='binary_crossentropy', metrics=['accuracy'])"
   ]
  },
  {
   "cell_type": "code",
   "execution_count": null,
   "metadata": {
    "colab": {
     "base_uri": "https://localhost:8080/"
    },
    "id": "vhuSlsr8lk3E",
    "outputId": "504a9f5a-facc-428c-a9f4-600b2d6f5cf6"
   },
   "outputs": [
    {
     "name": "stdout",
     "output_type": "stream",
     "text": [
      "Epoch 1/100\n",
      "1/1 [==============================] - 0s 187ms/step - loss: 1.9345 - accuracy: 0.0667 - val_loss: 1.9093 - val_accuracy: 0.0714\n",
      "Epoch 2/100\n",
      "1/1 [==============================] - 0s 39ms/step - loss: 1.8675 - accuracy: 0.0667 - val_loss: 1.7827 - val_accuracy: 0.0714\n",
      "Epoch 3/100\n",
      "1/1 [==============================] - 0s 42ms/step - loss: 1.7098 - accuracy: 0.0667 - val_loss: 1.5723 - val_accuracy: 0.0714\n",
      "Epoch 4/100\n",
      "1/1 [==============================] - 0s 34ms/step - loss: 1.4797 - accuracy: 0.0667 - val_loss: 1.3332 - val_accuracy: 0.0714\n",
      "Epoch 5/100\n",
      "1/1 [==============================] - 0s 40ms/step - loss: 1.2476 - accuracy: 0.0667 - val_loss: 1.1546 - val_accuracy: 0.0714\n",
      "Epoch 6/100\n",
      "1/1 [==============================] - 0s 37ms/step - loss: 1.0805 - accuracy: 0.0667 - val_loss: 1.0494 - val_accuracy: 0.0714\n",
      "Epoch 7/100\n",
      "1/1 [==============================] - 0s 35ms/step - loss: 0.9859 - accuracy: 0.0667 - val_loss: 0.9862 - val_accuracy: 0.0714\n",
      "Epoch 8/100\n",
      "1/1 [==============================] - 0s 51ms/step - loss: 0.9341 - accuracy: 0.0667 - val_loss: 0.9441 - val_accuracy: 0.0714\n",
      "Epoch 9/100\n",
      "1/1 [==============================] - 0s 45ms/step - loss: 0.9008 - accuracy: 0.0667 - val_loss: 0.9128 - val_accuracy: 0.0714\n",
      "Epoch 10/100\n",
      "1/1 [==============================] - 0s 35ms/step - loss: 0.8757 - accuracy: 0.0667 - val_loss: 0.8876 - val_accuracy: 0.0714\n",
      "Epoch 11/100\n",
      "1/1 [==============================] - 0s 35ms/step - loss: 0.8550 - accuracy: 0.0667 - val_loss: 0.8660 - val_accuracy: 0.0714\n",
      "Epoch 12/100\n",
      "1/1 [==============================] - 0s 37ms/step - loss: 0.8370 - accuracy: 0.0667 - val_loss: 0.8470 - val_accuracy: 0.0714\n",
      "Epoch 13/100\n",
      "1/1 [==============================] - 0s 40ms/step - loss: 0.8210 - accuracy: 0.0667 - val_loss: 0.8299 - val_accuracy: 0.0714\n",
      "Epoch 14/100\n",
      "1/1 [==============================] - 0s 38ms/step - loss: 0.8064 - accuracy: 0.0667 - val_loss: 0.8144 - val_accuracy: 0.0714\n",
      "Epoch 15/100\n",
      "1/1 [==============================] - 0s 39ms/step - loss: 0.7931 - accuracy: 0.1000 - val_loss: 0.8003 - val_accuracy: 0.0714\n",
      "Epoch 16/100\n",
      "1/1 [==============================] - 0s 42ms/step - loss: 0.7810 - accuracy: 0.1000 - val_loss: 0.7875 - val_accuracy: 0.0714\n",
      "Epoch 17/100\n",
      "1/1 [==============================] - 0s 36ms/step - loss: 0.7698 - accuracy: 0.1000 - val_loss: 0.7757 - val_accuracy: 0.0714\n",
      "Epoch 18/100\n",
      "1/1 [==============================] - 0s 38ms/step - loss: 0.7595 - accuracy: 0.1000 - val_loss: 0.7649 - val_accuracy: 0.0714\n",
      "Epoch 19/100\n",
      "1/1 [==============================] - 0s 40ms/step - loss: 0.7500 - accuracy: 0.1000 - val_loss: 0.7549 - val_accuracy: 0.0714\n",
      "Epoch 20/100\n",
      "1/1 [==============================] - 0s 36ms/step - loss: 0.7413 - accuracy: 0.1000 - val_loss: 0.7457 - val_accuracy: 0.0714\n",
      "Epoch 21/100\n",
      "1/1 [==============================] - 0s 35ms/step - loss: 0.7331 - accuracy: 0.1667 - val_loss: 0.7371 - val_accuracy: 0.0714\n",
      "Epoch 22/100\n",
      "1/1 [==============================] - 0s 37ms/step - loss: 0.7254 - accuracy: 0.1667 - val_loss: 0.7291 - val_accuracy: 0.1429\n",
      "Epoch 23/100\n",
      "1/1 [==============================] - 0s 38ms/step - loss: 0.7183 - accuracy: 0.2000 - val_loss: 0.7215 - val_accuracy: 0.1429\n",
      "Epoch 24/100\n",
      "1/1 [==============================] - 0s 42ms/step - loss: 0.7115 - accuracy: 0.3000 - val_loss: 0.7144 - val_accuracy: 0.1429\n",
      "Epoch 25/100\n",
      "1/1 [==============================] - 0s 39ms/step - loss: 0.7051 - accuracy: 0.3667 - val_loss: 0.7076 - val_accuracy: 0.2143\n",
      "Epoch 26/100\n",
      "1/1 [==============================] - 0s 39ms/step - loss: 0.6990 - accuracy: 0.4333 - val_loss: 0.7011 - val_accuracy: 0.3571\n",
      "Epoch 27/100\n",
      "1/1 [==============================] - 0s 39ms/step - loss: 0.6931 - accuracy: 0.4667 - val_loss: 0.6949 - val_accuracy: 0.4286\n",
      "Epoch 28/100\n",
      "1/1 [==============================] - 0s 41ms/step - loss: 0.6875 - accuracy: 0.6000 - val_loss: 0.6889 - val_accuracy: 0.5714\n",
      "Epoch 29/100\n",
      "1/1 [==============================] - 0s 39ms/step - loss: 0.6820 - accuracy: 0.6667 - val_loss: 0.6831 - val_accuracy: 0.7143\n",
      "Epoch 30/100\n",
      "1/1 [==============================] - 0s 39ms/step - loss: 0.6767 - accuracy: 0.8000 - val_loss: 0.6774 - val_accuracy: 0.8571\n",
      "Epoch 31/100\n",
      "1/1 [==============================] - 0s 40ms/step - loss: 0.6715 - accuracy: 0.8667 - val_loss: 0.6718 - val_accuracy: 1.0000\n",
      "Epoch 32/100\n",
      "1/1 [==============================] - 0s 56ms/step - loss: 0.6664 - accuracy: 0.9000 - val_loss: 0.6664 - val_accuracy: 0.9286\n",
      "Epoch 33/100\n",
      "1/1 [==============================] - 0s 40ms/step - loss: 0.6614 - accuracy: 0.9333 - val_loss: 0.6610 - val_accuracy: 0.9286\n",
      "Epoch 34/100\n",
      "1/1 [==============================] - 0s 39ms/step - loss: 0.6565 - accuracy: 0.9333 - val_loss: 0.6557 - val_accuracy: 0.9286\n",
      "Epoch 35/100\n",
      "1/1 [==============================] - 0s 37ms/step - loss: 0.6516 - accuracy: 0.9333 - val_loss: 0.6505 - val_accuracy: 0.9286\n",
      "Epoch 36/100\n",
      "1/1 [==============================] - 0s 37ms/step - loss: 0.6467 - accuracy: 0.9333 - val_loss: 0.6452 - val_accuracy: 0.9286\n",
      "Epoch 37/100\n",
      "1/1 [==============================] - 0s 56ms/step - loss: 0.6419 - accuracy: 0.9333 - val_loss: 0.6399 - val_accuracy: 0.9286\n",
      "Epoch 38/100\n",
      "1/1 [==============================] - 0s 45ms/step - loss: 0.6370 - accuracy: 0.9333 - val_loss: 0.6346 - val_accuracy: 0.9286\n",
      "Epoch 39/100\n",
      "1/1 [==============================] - 0s 39ms/step - loss: 0.6321 - accuracy: 0.9333 - val_loss: 0.6293 - val_accuracy: 0.9286\n",
      "Epoch 40/100\n",
      "1/1 [==============================] - 0s 39ms/step - loss: 0.6271 - accuracy: 0.9333 - val_loss: 0.6240 - val_accuracy: 0.9286\n",
      "Epoch 41/100\n",
      "1/1 [==============================] - 0s 36ms/step - loss: 0.6221 - accuracy: 0.9333 - val_loss: 0.6185 - val_accuracy: 0.9286\n",
      "Epoch 42/100\n",
      "1/1 [==============================] - 0s 39ms/step - loss: 0.6170 - accuracy: 0.9333 - val_loss: 0.6130 - val_accuracy: 0.9286\n",
      "Epoch 43/100\n",
      "1/1 [==============================] - 0s 37ms/step - loss: 0.6118 - accuracy: 0.9333 - val_loss: 0.6073 - val_accuracy: 0.9286\n",
      "Epoch 44/100\n",
      "1/1 [==============================] - 0s 37ms/step - loss: 0.6065 - accuracy: 0.9333 - val_loss: 0.6016 - val_accuracy: 0.9286\n",
      "Epoch 45/100\n",
      "1/1 [==============================] - 0s 38ms/step - loss: 0.6011 - accuracy: 0.9333 - val_loss: 0.5957 - val_accuracy: 0.9286\n",
      "Epoch 46/100\n",
      "1/1 [==============================] - 0s 41ms/step - loss: 0.5955 - accuracy: 0.9333 - val_loss: 0.5896 - val_accuracy: 0.9286\n",
      "Epoch 47/100\n",
      "1/1 [==============================] - 0s 37ms/step - loss: 0.5897 - accuracy: 0.9333 - val_loss: 0.5833 - val_accuracy: 0.9286\n",
      "Epoch 48/100\n",
      "1/1 [==============================] - 0s 37ms/step - loss: 0.5838 - accuracy: 0.9333 - val_loss: 0.5768 - val_accuracy: 0.9286\n",
      "Epoch 49/100\n",
      "1/1 [==============================] - 0s 41ms/step - loss: 0.5776 - accuracy: 0.9333 - val_loss: 0.5701 - val_accuracy: 0.9286\n",
      "Epoch 50/100\n",
      "1/1 [==============================] - 0s 35ms/step - loss: 0.5712 - accuracy: 0.9333 - val_loss: 0.5631 - val_accuracy: 0.9286\n",
      "Epoch 51/100\n",
      "1/1 [==============================] - 0s 36ms/step - loss: 0.5645 - accuracy: 0.9333 - val_loss: 0.5558 - val_accuracy: 0.9286\n",
      "Epoch 52/100\n",
      "1/1 [==============================] - 0s 36ms/step - loss: 0.5575 - accuracy: 0.9333 - val_loss: 0.5482 - val_accuracy: 0.9286\n",
      "Epoch 53/100\n",
      "1/1 [==============================] - 0s 37ms/step - loss: 0.5501 - accuracy: 0.9333 - val_loss: 0.5402 - val_accuracy: 0.9286\n",
      "Epoch 54/100\n",
      "1/1 [==============================] - 0s 35ms/step - loss: 0.5424 - accuracy: 0.9333 - val_loss: 0.5317 - val_accuracy: 0.9286\n",
      "Epoch 55/100\n",
      "1/1 [==============================] - 0s 34ms/step - loss: 0.5342 - accuracy: 0.9333 - val_loss: 0.5229 - val_accuracy: 0.9286\n",
      "Epoch 56/100\n",
      "1/1 [==============================] - 0s 46ms/step - loss: 0.5255 - accuracy: 0.9333 - val_loss: 0.5135 - val_accuracy: 0.9286\n",
      "Epoch 57/100\n",
      "1/1 [==============================] - 0s 36ms/step - loss: 0.5163 - accuracy: 0.9333 - val_loss: 0.5036 - val_accuracy: 0.9286\n",
      "Epoch 58/100\n",
      "1/1 [==============================] - 0s 37ms/step - loss: 0.5065 - accuracy: 0.9333 - val_loss: 0.4931 - val_accuracy: 0.9286\n",
      "Epoch 59/100\n",
      "1/1 [==============================] - 0s 36ms/step - loss: 0.4961 - accuracy: 0.9333 - val_loss: 0.4820 - val_accuracy: 0.9286\n",
      "Epoch 60/100\n",
      "1/1 [==============================] - 0s 37ms/step - loss: 0.4850 - accuracy: 0.9333 - val_loss: 0.4703 - val_accuracy: 0.9286\n",
      "Epoch 61/100\n",
      "1/1 [==============================] - 0s 38ms/step - loss: 0.4733 - accuracy: 0.9333 - val_loss: 0.4580 - val_accuracy: 0.9286\n",
      "Epoch 62/100\n",
      "1/1 [==============================] - 0s 43ms/step - loss: 0.4608 - accuracy: 0.9333 - val_loss: 0.4451 - val_accuracy: 0.9286\n",
      "Epoch 63/100\n",
      "1/1 [==============================] - 0s 39ms/step - loss: 0.4476 - accuracy: 0.9333 - val_loss: 0.4317 - val_accuracy: 0.9286\n",
      "Epoch 64/100\n",
      "1/1 [==============================] - 0s 38ms/step - loss: 0.4337 - accuracy: 0.9333 - val_loss: 0.4179 - val_accuracy: 0.9286\n",
      "Epoch 65/100\n",
      "1/1 [==============================] - 0s 35ms/step - loss: 0.4194 - accuracy: 0.9333 - val_loss: 0.4039 - val_accuracy: 0.9286\n",
      "Epoch 66/100\n",
      "1/1 [==============================] - 0s 37ms/step - loss: 0.4048 - accuracy: 0.9333 - val_loss: 0.3900 - val_accuracy: 0.9286\n",
      "Epoch 67/100\n",
      "1/1 [==============================] - 0s 37ms/step - loss: 0.3900 - accuracy: 0.9333 - val_loss: 0.3762 - val_accuracy: 0.9286\n",
      "Epoch 68/100\n",
      "1/1 [==============================] - 0s 34ms/step - loss: 0.3754 - accuracy: 0.9333 - val_loss: 0.3629 - val_accuracy: 0.9286\n",
      "Epoch 69/100\n",
      "1/1 [==============================] - 0s 36ms/step - loss: 0.3612 - accuracy: 0.9333 - val_loss: 0.3502 - val_accuracy: 0.9286\n",
      "Epoch 70/100\n",
      "1/1 [==============================] - 0s 57ms/step - loss: 0.3476 - accuracy: 0.9333 - val_loss: 0.3382 - val_accuracy: 0.9286\n",
      "Epoch 71/100\n",
      "1/1 [==============================] - 0s 38ms/step - loss: 0.3349 - accuracy: 0.9333 - val_loss: 0.3272 - val_accuracy: 0.9286\n",
      "Epoch 72/100\n",
      "1/1 [==============================] - 0s 40ms/step - loss: 0.3230 - accuracy: 0.9333 - val_loss: 0.3171 - val_accuracy: 0.9286\n",
      "Epoch 73/100\n",
      "1/1 [==============================] - 0s 37ms/step - loss: 0.3121 - accuracy: 0.9333 - val_loss: 0.3080 - val_accuracy: 0.9286\n",
      "Epoch 74/100\n",
      "1/1 [==============================] - 0s 40ms/step - loss: 0.3022 - accuracy: 0.9333 - val_loss: 0.2998 - val_accuracy: 0.9286\n",
      "Epoch 75/100\n",
      "1/1 [==============================] - 0s 38ms/step - loss: 0.2934 - accuracy: 0.9333 - val_loss: 0.2925 - val_accuracy: 0.9286\n",
      "Epoch 76/100\n",
      "1/1 [==============================] - 0s 34ms/step - loss: 0.2855 - accuracy: 0.9333 - val_loss: 0.2862 - val_accuracy: 0.9286\n",
      "Epoch 77/100\n",
      "1/1 [==============================] - 0s 39ms/step - loss: 0.2786 - accuracy: 0.9333 - val_loss: 0.2807 - val_accuracy: 0.9286\n",
      "Epoch 78/100\n",
      "1/1 [==============================] - 0s 36ms/step - loss: 0.2725 - accuracy: 0.9333 - val_loss: 0.2760 - val_accuracy: 0.9286\n",
      "Epoch 79/100\n",
      "1/1 [==============================] - 0s 33ms/step - loss: 0.2673 - accuracy: 0.9333 - val_loss: 0.2720 - val_accuracy: 0.9286\n",
      "Epoch 80/100\n",
      "1/1 [==============================] - 0s 45ms/step - loss: 0.2628 - accuracy: 0.9333 - val_loss: 0.2687 - val_accuracy: 0.9286\n",
      "Epoch 81/100\n",
      "1/1 [==============================] - 0s 38ms/step - loss: 0.2591 - accuracy: 0.9333 - val_loss: 0.2659 - val_accuracy: 0.9286\n",
      "Epoch 82/100\n",
      "1/1 [==============================] - 0s 35ms/step - loss: 0.2559 - accuracy: 0.9333 - val_loss: 0.2636 - val_accuracy: 0.9286\n",
      "Epoch 83/100\n",
      "1/1 [==============================] - 0s 39ms/step - loss: 0.2532 - accuracy: 0.9333 - val_loss: 0.2618 - val_accuracy: 0.9286\n",
      "Epoch 84/100\n",
      "1/1 [==============================] - 0s 35ms/step - loss: 0.2511 - accuracy: 0.9333 - val_loss: 0.2603 - val_accuracy: 0.9286\n",
      "Epoch 85/100\n",
      "1/1 [==============================] - 0s 40ms/step - loss: 0.2493 - accuracy: 0.9333 - val_loss: 0.2591 - val_accuracy: 0.9286\n",
      "Epoch 86/100\n",
      "1/1 [==============================] - 0s 39ms/step - loss: 0.2478 - accuracy: 0.9333 - val_loss: 0.2583 - val_accuracy: 0.9286\n",
      "Epoch 87/100\n",
      "1/1 [==============================] - 0s 45ms/step - loss: 0.2467 - accuracy: 0.9333 - val_loss: 0.2576 - val_accuracy: 0.9286\n",
      "Epoch 88/100\n",
      "1/1 [==============================] - 0s 56ms/step - loss: 0.2458 - accuracy: 0.9333 - val_loss: 0.2571 - val_accuracy: 0.9286\n",
      "Epoch 89/100\n",
      "1/1 [==============================] - 0s 36ms/step - loss: 0.2451 - accuracy: 0.9333 - val_loss: 0.2568 - val_accuracy: 0.9286\n",
      "Epoch 90/100\n",
      "1/1 [==============================] - 0s 34ms/step - loss: 0.2445 - accuracy: 0.9333 - val_loss: 0.2566 - val_accuracy: 0.9286\n",
      "Epoch 91/100\n",
      "1/1 [==============================] - 0s 36ms/step - loss: 0.2441 - accuracy: 0.9333 - val_loss: 0.2565 - val_accuracy: 0.9286\n",
      "Epoch 92/100\n",
      "1/1 [==============================] - 0s 38ms/step - loss: 0.2439 - accuracy: 0.9333 - val_loss: 0.2564 - val_accuracy: 0.9286\n",
      "Epoch 93/100\n",
      "1/1 [==============================] - 0s 42ms/step - loss: 0.2437 - accuracy: 0.9333 - val_loss: 0.2565 - val_accuracy: 0.9286\n",
      "Epoch 94/100\n",
      "1/1 [==============================] - 0s 35ms/step - loss: 0.2435 - accuracy: 0.9333 - val_loss: 0.2565 - val_accuracy: 0.9286\n",
      "Epoch 95/100\n",
      "1/1 [==============================] - 0s 55ms/step - loss: 0.2434 - accuracy: 0.9333 - val_loss: 0.2566 - val_accuracy: 0.9286\n",
      "Epoch 96/100\n",
      "1/1 [==============================] - 0s 40ms/step - loss: 0.2434 - accuracy: 0.9333 - val_loss: 0.2567 - val_accuracy: 0.9286\n",
      "Epoch 97/100\n",
      "1/1 [==============================] - 0s 39ms/step - loss: 0.2434 - accuracy: 0.9333 - val_loss: 0.2568 - val_accuracy: 0.9286\n",
      "Epoch 98/100\n",
      "1/1 [==============================] - 0s 38ms/step - loss: 0.2434 - accuracy: 0.9333 - val_loss: 0.2568 - val_accuracy: 0.9286\n",
      "Epoch 99/100\n",
      "1/1 [==============================] - 0s 38ms/step - loss: 0.2434 - accuracy: 0.9333 - val_loss: 0.2569 - val_accuracy: 0.9286\n",
      "Epoch 100/100\n",
      "1/1 [==============================] - 0s 35ms/step - loss: 0.2434 - accuracy: 0.9333 - val_loss: 0.2570 - val_accuracy: 0.9286\n"
     ]
    }
   ],
   "source": [
    "# Train the model on the acetic acid dataset\n",
    "history_acetic_acid = model.fit(\n",
    "    X_train_acetic_acid,\n",
    "    y_train_acetic_acid,\n",
    "    epochs=100,\n",
    "    batch_size=32,\n",
    "    validation_data=(X_test_acetic_acid, y_test_acetic_acid)\n",
    ")"
   ]
  },
  {
   "cell_type": "code",
   "execution_count": null,
   "metadata": {
    "id": "GhMw1I55mwTv"
   },
   "outputs": [],
   "source": [
    "from sklearn.metrics import accuracy_score, precision_score, recall_score, f1_score\n",
    "from sklearn.metrics import roc_curve, auc, confusion_matrix, classification_report\n",
    "import matplotlib.pyplot as plt"
   ]
  },
  {
   "cell_type": "code",
   "execution_count": null,
   "metadata": {
    "colab": {
     "base_uri": "https://localhost:8080/"
    },
    "id": "4o42xUJom4kH",
    "outputId": "5bffc77c-5225-498c-8485-7f6b664811c9"
   },
   "outputs": [
    {
     "name": "stdout",
     "output_type": "stream",
     "text": [
      "1/1 [==============================] - 0s 18ms/step\n"
     ]
    }
   ],
   "source": [
    "# Make predictions on the test set\n",
    "y_pred_acetic_acid = model_acetic_acid.predict(X_test_acetic_acid)\n",
    "y_pred_acetic_acid_binary = (y_pred_acetic_acid > 0.5).astype(int)  # Convert probabilities to binary predictions"
   ]
  },
  {
   "cell_type": "code",
   "execution_count": null,
   "metadata": {
    "id": "KQlfHmfkm7HV"
   },
   "outputs": [],
   "source": [
    "# Calculate metrics\n",
    "accuracy = accuracy_score(y_test_acetic_acid, y_pred_acetic_acid_binary)"
   ]
  },
  {
   "cell_type": "code",
   "execution_count": null,
   "metadata": {
    "colab": {
     "base_uri": "https://localhost:8080/"
    },
    "id": "veAxJ1e3nK_N",
    "outputId": "680ddc76-59e5-4096-82c7-341547e21252"
   },
   "outputs": [
    {
     "name": "stdout",
     "output_type": "stream",
     "text": [
      "Accuracy: 0.9285714285714286\n",
      "Precision: 0.07142857142857142\n",
      "Recall: 1.0\n",
      "F1-score: 0.13333333333333333\n"
     ]
    }
   ],
   "source": [
    "# Print metrics\n",
    "print(f'Accuracy: {accuracy}')\n",
    "print(f'Precision: {precision}')\n",
    "print(f'Recall: {recall}')\n",
    "print(f'F1-score: {f1}')"
   ]
  },
  {
   "cell_type": "code",
   "execution_count": null,
   "metadata": {
    "colab": {
     "base_uri": "https://localhost:8080/"
    },
    "id": "t34Czhn-olag",
    "outputId": "7108ed1e-5ec8-4f75-e74e-83d6e194278b"
   },
   "outputs": [
    {
     "name": "stdout",
     "output_type": "stream",
     "text": [
      "\n",
      "Classification Report:\n",
      "               precision    recall  f1-score   support\n",
      "\n",
      "           0       0.93      1.00      0.96        13\n",
      "           1       0.00      0.00      0.00         1\n",
      "\n",
      "    accuracy                           0.93        14\n",
      "   macro avg       0.46      0.50      0.48        14\n",
      "weighted avg       0.86      0.93      0.89        14\n",
      "\n"
     ]
    },
    {
     "name": "stderr",
     "output_type": "stream",
     "text": [
      "/usr/local/lib/python3.10/dist-packages/sklearn/metrics/_classification.py:1344: UndefinedMetricWarning: Precision and F-score are ill-defined and being set to 0.0 in labels with no predicted samples. Use `zero_division` parameter to control this behavior.\n",
      "  _warn_prf(average, modifier, msg_start, len(result))\n",
      "/usr/local/lib/python3.10/dist-packages/sklearn/metrics/_classification.py:1344: UndefinedMetricWarning: Precision and F-score are ill-defined and being set to 0.0 in labels with no predicted samples. Use `zero_division` parameter to control this behavior.\n",
      "  _warn_prf(average, modifier, msg_start, len(result))\n",
      "/usr/local/lib/python3.10/dist-packages/sklearn/metrics/_classification.py:1344: UndefinedMetricWarning: Precision and F-score are ill-defined and being set to 0.0 in labels with no predicted samples. Use `zero_division` parameter to control this behavior.\n",
      "  _warn_prf(average, modifier, msg_start, len(result))\n"
     ]
    }
   ],
   "source": [
    "# Classification report\n",
    "print(\"\\nClassification Report:\\n\", classification_report(y_test_acetic_acid, y_pred_acetic_acid_binary))\n"
   ]
  },
  {
   "cell_type": "code",
   "execution_count": null,
   "metadata": {
    "id": "GTDOZ_LVovRH"
   },
   "outputs": [],
   "source": [
    "from sklearn.metrics import classification_report, confusion_matrix, roc_curve, auc, accuracy_score, precision_score, recall_score, f1_score\n",
    "import matplotlib.pyplot as plt\n",
    "import seaborn as sns"
   ]
  },
  {
   "cell_type": "code",
   "execution_count": null,
   "metadata": {
    "colab": {
     "base_uri": "https://localhost:8080/",
     "height": 472
    },
    "id": "KkOGvDuSosa0",
    "outputId": "18f771fa-0ae5-41cc-d0da-0fb633721347"
   },
   "outputs": [
    {
     "data": {
      "image/png": "[encoded data removed]",
      "text/plain": [
       "<Figure size 640x480 with 2 Axes>"
      ]
     },
     "metadata": {},
     "output_type": "display_data"
    }
   ],
   "source": [
    "# Confusion matrix\n",
    "conf_matrix = confusion_matrix(y_test_acetic_acid, y_pred_acetic_acid_binary)\n",
    "sns.heatmap(conf_matrix, annot=True, fmt='d', cmap='Blues')\n",
    "plt.title('Confusion Matrix')\n",
    "plt.xlabel('Predicted Labels')\n",
    "plt.ylabel('True Labels')\n",
    "plt.show()"
   ]
  },
  {
   "cell_type": "code",
   "execution_count": null,
   "metadata": {
    "id": "Ys9pLXYipHDV"
   },
   "outputs": [],
   "source": [
    "# ROC curve and AUC\n",
    "fpr, tpr, thresholds = roc_curve(y_test_acetic_acid, y_pred_acetic_acid)\n",
    "roc_auc = auc(fpr, tpr)"
   ]
  },
  {
   "cell_type": "code",
   "execution_count": null,
   "metadata": {
    "colab": {
     "base_uri": "https://localhost:8080/",
     "height": 472
    },
    "id": "YXXClkuJpJn_",
    "outputId": "10e430e2-50f1-45d3-f759-2d11751ce633"
   },
   "outputs": [
    {
     "data": {
      "image/png": "[encoded data removed]",
      "text/plain": [
       "<Figure size 640x480 with 1 Axes>"
      ]
     },
     "metadata": {},
     "output_type": "display_data"
    }
   ],
   "source": [
    "plt.figure()\n",
    "plt.plot(fpr, tpr, color='darkorange', lw=2, label=f'ROC curve (area = {roc_auc:.2f})')\n",
    "plt.plot([0, 1], [0, 1], color='navy', lw=2, linestyle='--')\n",
    "plt.xlim([0.0, 1.0])\n",
    "plt.ylim([0.0, 1.05])\n",
    "plt.xlabel('False Positive Rate')\n",
    "plt.ylabel('True Positive Rate')\n",
    "plt.title('Receiver Operating Characteristic Curve')\n",
    "plt.legend(loc='lower right')\n",
    "plt.show()"
   ]
  },
  {
   "cell_type": "code",
   "execution_count": null,
   "metadata": {
    "colab": {
     "base_uri": "https://localhost:8080/",
     "height": 487
    },
    "id": "uFHbpLMBpgnE",
    "outputId": "730ea5f8-4a17-4d7d-a026-1208cc3cbfee"
   },
   "outputs": [
    {
     "data": {
      "image/png": "[encoded data removed]",
      "text/plain": [
       "<Figure size 800x500 with 1 Axes>"
      ]
     },
     "metadata": {},
     "output_type": "display_data"
    }
   ],
   "source": [
    "# Plot accuracy\n",
    "plt.figure(figsize=(8, 5))\n",
    "plt.plot(history_acetic_acid.history['accuracy'], label='Training Accuracy')\n",
    "plt.plot(history_acetic_acid.history['val_accuracy'], label='Validation Accuracy')\n",
    "plt.title('Model Accuracy')\n",
    "plt.xlabel('Epoch')\n",
    "plt.ylabel('Accuracy')\n",
    "plt.legend()\n",
    "plt.show()"
   ]
  },
  {
   "cell_type": "code",
   "execution_count": null,
   "metadata": {
    "colab": {
     "base_uri": "https://localhost:8080/",
     "height": 487
    },
    "id": "KZYN_WnZpiNT",
    "outputId": "b3b7da0b-877b-43b7-8147-1a50692e7130"
   },
   "outputs": [
    {
     "data": {
      "image/png": "[encoded data removed]",
      "text/plain": [
       "<Figure size 800x500 with 1 Axes>"
      ]
     },
     "metadata": {},
     "output_type": "display_data"
    }
   ],
   "source": [
    "# Plot loss\n",
    "plt.figure(figsize=(8, 5))\n",
    "plt.plot(history_acetic_acid.history['loss'], label='Training Loss')\n",
    "plt.plot(history_acetic_acid.history['val_loss'], label='Validation Loss')\n",
    "plt.title('Model Loss')\n",
    "plt.xlabel('Epoch')\n",
    "plt.ylabel('Loss')\n",
    "plt.legend()\n",
    "plt.show()"
   ]
  }
 ],
 "metadata": {
  "colab": {
   "provenance": []
  },
  "kernelspec": {
   "display_name": "Python 3",
   "name": "python3"
  },
  "language_info": {
   "name": "python"
  }
 },
 "nbformat": 4,
 "nbformat_minor": 0
}
