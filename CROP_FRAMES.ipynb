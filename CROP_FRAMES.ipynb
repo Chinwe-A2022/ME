{
 "cells": [
  {
   "cell_type": "code",
   "execution_count": null,
   "id": "55a83e70-f663-4414-9235-32ce99adc1e7",
   "metadata": {},
   "outputs": [],
   "source": [
    "import cv2\n",
    "import os\n",
    "import glob\n",
    "\n",
    "images = [cv2.imread(file) for file in glob.glob(r'F:\\azalea_medium\\*.png')]\n",
    "print(len(images))\n",
    "\n",
    "b = 0\n",
    "for image in images:\n",
    "    img = cv2.resize(image, (680, 480))\n",
    "    path = r'F:\\azaleamediumandbad'\n",
    "    cv2.imwrite(os.path.join(path,str(b) + '.png'),img)\n",
    "    b += 1"
   ]
  },
  {
   "cell_type": "code",
   "execution_count": 1,
   "id": "94163ab0-7d15-4240-a77f-1f77bf78fb73",
   "metadata": {},
   "outputs": [
    {
     "name": "stdout",
     "output_type": "stream",
     "text": [
      "Requirement already satisfied: pillow in c:\\users\\yasse\\.conda\\envs\\tfgpu\\lib\\site-packages (9.0.1)\n"
     ]
    }
   ],
   "source": [
    "!pip install pillow\n",
    "from PIL import Image"
   ]
  },
  {
   "cell_type": "code",
   "execution_count": null,
   "id": "562db7d3-0127-4985-852b-d848ffd503e0",
   "metadata": {},
   "outputs": [],
   "source": [
    "# # crop for upperleaves2\n",
    "# import glob\n",
    "# import os\n",
    "# frames = [Image.open(file) for file in glob.glob(r'C:\\CHINWE\\Azelia_July\\AZ_JULY20220701\\july1\\*.png')]\n",
    "\n",
    "# left = 1870\n",
    "# right = 750\n",
    "# top = 2330\n",
    "# bottom = 1050\n",
    "\n",
    "# c = 0\n",
    "# for frames in frames:\n",
    "#     imag = frame.crop((left,right,top,bottom))\n",
    "#     path = r'C:\\CHINWE\\Azelia_July\\AZ_JULY20220701\\july1crop'\n",
    "#     imag.save(os.path.join(path,str(c) + '.png'))\n",
    "#     c +=1"
   ]
  },
  {
   "cell_type": "code",
   "execution_count": null,
   "id": "605611dd-6c92-45d9-a788-f30a90390014",
   "metadata": {},
   "outputs": [],
   "source": [
    "# # crop for upper leaves3\n",
    "# import glob\n",
    "# import os\n",
    "# frames = [Image.open(file) for file in glob.glob(r'C:\\CHINWE\\Azelia_July\\AZ_JULY20220701\\july1\\*.png')]\n",
    "\n",
    "# left = 1450\n",
    "# right = 750\n",
    "# top = 1830\n",
    "# bottom = 1050\n",
    "\n",
    "# c = 120\n",
    "# for frames in frames:\n",
    "#     imag = frame.crop((left,right,top,bottom))\n",
    "#     path = r'C:\\CHINWE\\Azelia_July\\AZ_JULY20220701\\july1crop'\n",
    "#     imag.save(os.path.join(path,str(c) + '.png'))\n",
    "#     c +=1"
   ]
  },
  {
   "cell_type": "code",
   "execution_count": null,
   "id": "cc0cecb2-b2cd-42cf-a82f-d5ea38663e80",
   "metadata": {},
   "outputs": [],
   "source": [
    "# # crop for lower leaves1\n",
    "# import glob\n",
    "# import os\n",
    "# frames = [Image.open(file) for file in glob.glob(r'C:\\CHINWE\\Azelia_July\\AZ_JULY20220701\\july1\\*.png')]\n",
    "\n",
    "# left = 2250\n",
    "# right = 1450\n",
    "# top = 2530\n",
    "# bottom = 1950\n",
    "\n",
    "# c = 240\n",
    "# for frames in frames:\n",
    "#     imag = frame.crop((left,right,top,bottom))\n",
    "#     path = r'C:\\CHINWE\\Azelia_July\\AZ_JULY20220701\\july1crop'\n",
    "#     imag.save(os.path.join(path,str(c) + '.png'))\n",
    "#     c +=1"
   ]
  },
  {
   "cell_type": "code",
   "execution_count": null,
   "id": "954b8c23-1de8-4eb9-8165-ce84525598e6",
   "metadata": {},
   "outputs": [],
   "source": [
    "# # crop for lower leaves2\n",
    "# import glob\n",
    "# import os\n",
    "# frames = [Image.open(file) for file in glob.glob(r'C:\\CHINWE\\Azelia_July\\AZ_JULY20220701\\july1\\*.png')]\n",
    "\n",
    "# left = 1550\n",
    "# right = 1350\n",
    "# top = 2330\n",
    "# bottom = 1950\n",
    "\n",
    "# c = 360\n",
    "# for frames in frames:\n",
    "#     imag = frame.crop((left,right,top,bottom))\n",
    "#     path = r'C:\\CHINWE\\Azelia_July\\AZ_JULY20220701\\july1crop'\n",
    "#     imag.save(os.path.join(path,str(c) + '.png'))\n",
    "#     c +=1"
   ]
  },
  {
   "cell_type": "code",
   "execution_count": null,
   "id": "3cae7875-b140-4de4-8347-5b768eee02cb",
   "metadata": {},
   "outputs": [],
   "source": [
    "# # crop for lower leaves3\n",
    "# import glob\n",
    "# import os\n",
    "# frames = [Image.open(file) for file in glob.glob(r'F:\\azalea_medium\\*.png')]\n",
    "\n",
    "# left = 1250\n",
    "# right = 1150\n",
    "# top = 1820\n",
    "# bottom = 1950\n",
    "\n",
    "# c = 0\n",
    "# for frames in frames:\n",
    "#     imag = frame.crop((left,right,top,bottom))\n",
    "#     path = r'F:\\azaleamediumandbad'\n",
    "#     imag.save(os.path.join(path,str(c) + '.png'))\n",
    "#     c +=1"
   ]
  },
  {
   "cell_type": "code",
   "execution_count": 33,
   "id": "2e51f2d7-e569-4f91-89b4-5dc4ab707132",
   "metadata": {},
   "outputs": [],
   "source": [
    "# crop for upper green leaves1\n",
    "import glob\n",
    "import os\n",
    "frame = Image.open(r'F:\\azalea_medium\\475.png')\n",
    "\n",
    "left = 1400\n",
    "right = 1200\n",
    "top = 1940\n",
    "bottom = 1900\n",
    "\n",
    "imag = frame.crop((left,right,top,bottom))\n",
    "path = r'F:\\Test1'\n",
    "imag.save('0.png')\n",
    "imag.save(os.path.join(path,'0.png'))"
   ]
  },
  {
   "cell_type": "code",
   "execution_count": null,
   "id": "8b10ec69-8664-4bba-8c9c-4039e2ba4b3b",
   "metadata": {},
   "outputs": [],
   "source": []
  }
 ],
 "metadata": {
  "kernelspec": {
   "display_name": "Python 3 (ipykernel)",
   "language": "python",
   "name": "python3"
  },
  "language_info": {
   "codemirror_mode": {
    "name": "ipython",
    "version": 3
   },
   "file_extension": ".py",
   "mimetype": "text/x-python",
   "name": "python",
   "nbconvert_exporter": "python",
   "pygments_lexer": "ipython3",
   "version": "3.9.12"
  }
 },
 "nbformat": 4,
 "nbformat_minor": 5
}
